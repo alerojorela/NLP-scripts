{
 "cells": [
  {
   "cell_type": "markdown",
   "id": "a0c2dd14",
   "metadata": {},
   "source": [
    "# Word similarity using word embeddings\n",
    "+ gets word embeddings from [Glove](https://nlp.stanford.edu/projects/glove/)\n",
    "+ tokenizes using nltk\n",
    "+ extracts semantic features\n",
    "+ cosine similarity\n",
    "+ plots a similarity matrix"
   ]
  },
  {
   "cell_type": "code",
   "execution_count": 30,
   "id": "0047f60c",
   "metadata": {},
   "outputs": [],
   "source": [
    "expression = \"\"\"The Baroque style used contrast, movement, exuberant detail, deep colour, grandeur, and surprise to achieve a sense of awe.\"\"\"\n",
    "expression = \"\"\"Among a sea of clouds, taking a deep breath, I am the wind.\"\"\"\n",
    "expression = \"\"\"sea ship breath live eat vomit bite apple pear orange town country\"\"\""
   ]
  },
  {
   "cell_type": "code",
   "execution_count": 37,
   "id": "4e53b240",
   "metadata": {},
   "outputs": [],
   "source": [
    "# !pip install gensim"
   ]
  },
  {
   "cell_type": "code",
   "execution_count": 15,
   "id": "b98fdf2e",
   "metadata": {},
   "outputs": [],
   "source": [
    "import re\n",
    "import string\n",
    "\n",
    "import numpy as np\n",
    "import matplotlib.pyplot as plt\n",
    "\n",
    "from nltk.corpus import stopwords\n",
    "from nltk.tokenize import word_tokenize as Tokenizer\n",
    "# from nltk.tokenize import sent_tokenize, WhitespaceTokenizer\n",
    "from nltk.stem import PorterStemmer, WordNetLemmatizer"
   ]
  },
  {
   "cell_type": "markdown",
   "id": "e77e61ce",
   "metadata": {},
   "source": [
    "## Word embeddings "
   ]
  },
  {
   "cell_type": "code",
   "execution_count": 4,
   "id": "bbbc950e",
   "metadata": {},
   "outputs": [],
   "source": [
    "import pickle\n",
    "from pathlib import Path\n",
    "pickle_file = Path('./OFFLINE', 'glove.6B.pickle')\n",
    "\n",
    "def gensim_word_embeddings():\n",
    "    with pickle_file.open('rb') as handle:\n",
    "        word_embeddings = pickle.load(handle)\n",
    "    print('loaded %s word vectors of %s dimensions.' % \n",
    "          (len(word_embeddings), len(next(iter(word_embeddings.values())))) )\n",
    "    return word_embeddings          "
   ]
  },
  {
   "cell_type": "code",
   "execution_count": 5,
   "id": "a5576636",
   "metadata": {},
   "outputs": [
    {
     "name": "stdout",
     "output_type": "stream",
     "text": [
      "loaded 400000 word vectors of 100 dimensions.\n"
     ]
    }
   ],
   "source": [
    "word_embeddings = gensim_word_embeddings()"
   ]
  },
  {
   "cell_type": "markdown",
   "id": "dd3661cd",
   "metadata": {},
   "source": [
    "## Features extraction"
   ]
  },
  {
   "cell_type": "code",
   "execution_count": 6,
   "id": "eaf88d2c",
   "metadata": {},
   "outputs": [],
   "source": [
    "language='english'\n",
    "stopwords_list = stopwords.words(language)\n",
    "# token_classifier = PorterStemmer().stem\n",
    "token_classifier = WordNetLemmatizer().lemmatize"
   ]
  },
  {
   "cell_type": "code",
   "execution_count": 7,
   "id": "2e3560c8",
   "metadata": {},
   "outputs": [],
   "source": [
    "def preprocessing(expression):\n",
    "    expression = re.sub(r'\\$\\w*', '', expression)\n",
    "    # remove hyperlinks\n",
    "    expression = re.sub(r'https?://[^\\s\\n\\r]+', '', expression)\n",
    "    # remove hashtags: only removing the hash # sign from the word\n",
    "    expression = re.sub(r'#', '', expression)\n",
    "    return expression"
   ]
  },
  {
   "cell_type": "code",
   "execution_count": 8,
   "id": "cb74b5be",
   "metadata": {},
   "outputs": [],
   "source": [
    "def valid_semantic_feature(token):\n",
    "     # remove isolated chars, stoptokens, punctuation\n",
    "    return len(token) > 1 and token not in stopwords_list and token not in string.punctuation"
   ]
  },
  {
   "cell_type": "code",
   "execution_count": 9,
   "id": "1e7b019c",
   "metadata": {},
   "outputs": [],
   "source": [
    "def extract_semantic_features(expression):\n",
    "    expression_tokens = Tokenizer(expression)\n",
    "    expression_tokens = [token.lower() for token in expression_tokens]\n",
    "    features = [token_classifier(token) \n",
    "                for token in expression_tokens\n",
    "                if valid_semantic_feature(token)]\n",
    "    return features"
   ]
  },
  {
   "cell_type": "code",
   "execution_count": 38,
   "id": "0683332a",
   "metadata": {},
   "outputs": [],
   "source": [
    "def extract_word_embeddings(expression):\n",
    "    preprocessed = preprocessing(expression)\n",
    "    semantic_features = extract_semantic_features(preprocessed)\n",
    "\n",
    "    # word_embeddings\n",
    "    feature_labels = [_ for _ in semantic_features if _ in word_embeddings]\n",
    "    feature_labels_unmatched = [_ for _ in semantic_features if _ not in word_embeddings]\n",
    "    print( len(semantic_features) - len(feature_labels), 'word(s) not found: ', ' '.join(feature_labels_unmatched))\n",
    "\n",
    "    feature_vectors = [word_embeddings[_] for _ in feature_labels]\n",
    "    return feature_labels, feature_vectors"
   ]
  },
  {
   "cell_type": "code",
   "execution_count": 39,
   "id": "1f061f89",
   "metadata": {},
   "outputs": [
    {
     "name": "stdout",
     "output_type": "stream",
     "text": [
      "1 word(s) not found:  sedqweda\n",
      "['ship', 'breath', 'live', 'eat', 'vomit', 'bite', 'apple', 'pear', 'orange', 'town', 'country']\n"
     ]
    }
   ],
   "source": [
    "feature_labels, feature_vectors = extract_word_embeddings(expression)\n",
    "print(feature_labels)"
   ]
  },
  {
   "cell_type": "markdown",
   "id": "d1421bbc",
   "metadata": {},
   "source": [
    "## Similarity"
   ]
  },
  {
   "cell_type": "code",
   "execution_count": 21,
   "id": "96d02319",
   "metadata": {
    "scrolled": true
   },
   "outputs": [
    {
     "data": {
      "text/plain": [
       "(12, 12)"
      ]
     },
     "execution_count": 21,
     "metadata": {},
     "output_type": "execute_result"
    }
   ],
   "source": [
    "length = len(semantic_features)\n",
    "\n",
    "matrix = np.zeros((length, length))\n",
    "for i in range(length):\n",
    "    for j in range(length):\n",
    "#         print(feature_labels[i], feature_labels[j])\n",
    "        A, B = feature_vectors[i], feature_vectors[j]\n",
    "        similarity = np.dot(A,B) / (np.linalg.norm(A) * np.linalg.norm(B))\n",
    "        matrix[i,j] = similarity\n",
    "matrix.shape"
   ]
  },
  {
   "cell_type": "code",
   "execution_count": 22,
   "id": "ea303dc1",
   "metadata": {},
   "outputs": [
    {
     "data": {
      "image/png": "[encoded data removed]",
      "text/plain": [
       "<Figure size 1000x1000 with 2 Axes>"
      ]
     },
     "metadata": {},
     "output_type": "display_data"
    }
   ],
   "source": [
    "# calculate correlation between all columns\n",
    "correlations = np.copy(matrix)\n",
    "threshold = 0.4\n",
    "correlations[correlations < threshold] = 0\n",
    "\n",
    "# create a new figure\n",
    "fig = plt.figure(figsize=(10,10))\n",
    "ax = fig.add_subplot(111)\n",
    "# normalize data using vmin, vmax\n",
    "# cax = ax.matshow(data.corr(), vmin=-1, vmax=1)  # calculate correlation between all columns\n",
    "cax = ax.matshow(correlations, vmin=0, vmax=1)\n",
    "fig.colorbar(cax)\n",
    "\n",
    "# define ticks\n",
    "ticks = np.arange(length)\n",
    "ax.set_xticks(ticks)\n",
    "ax.set_yticks(ticks)\n",
    "# set x and y tick labels\n",
    "ax.set_xticklabels(semantic_features)\n",
    "ax.set_yticklabels(semantic_features)\n",
    "\n",
    "plt.show()"
   ]
  },
  {
   "cell_type": "code",
   "execution_count": null,
   "id": "bffcbcee",
   "metadata": {},
   "outputs": [],
   "source": []
  }
 ],
 "metadata": {
  "kernelspec": {
   "display_name": "Python 3 (ipykernel)",
   "language": "python",
   "name": "python3"
  },
  "language_info": {
   "codemirror_mode": {
    "name": "ipython",
    "version": 3
   },
   "file_extension": ".py",
   "mimetype": "text/x-python",
   "name": "python",
   "nbconvert_exporter": "python",
   "pygments_lexer": "ipython3",
   "version": "3.9.5"
  }
 },
 "nbformat": 4,
 "nbformat_minor": 5
}
