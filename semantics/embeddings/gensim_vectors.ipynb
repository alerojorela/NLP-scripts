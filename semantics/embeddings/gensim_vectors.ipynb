{
 "cells": [
  {
   "cell_type": "code",
   "execution_count": null,
   "id": "5b17ea89",
   "metadata": {},
   "outputs": [],
   "source": [
    "import pickle\n",
    "from pathlib import Path\n",
    "embedding_file = Path('./OFFLINE', 'glove.6B.100d.txt')\n",
    "pickle_file = Path('./OFFLINE', 'glove.6B.pickle')"
   ]
  },
  {
   "cell_type": "code",
   "execution_count": null,
   "id": "9cbf8242",
   "metadata": {},
   "outputs": [],
   "source": [
    "def gensim_word_embeddings():\n",
    "    with pickle_file.open('rb') as handle:\n",
    "        word_embeddings = pickle.load(handle)\n",
    "    print('loaded %s word vectors of %s dimensions.' % \n",
    "          (len(word_embeddings), len(next(iter(word_embeddings.values())))) )\n",
    "    return word_embeddings    "
   ]
  },
  {
   "cell_type": "code",
   "execution_count": 33,
   "id": "dbf7193c",
   "metadata": {},
   "outputs": [],
   "source": [
    "def gensim_word_embeddings():\n",
    "    # gets Gensim word embeddings\n",
    "    # downloads, process or loads them\n",
    "    if not embedding_file.exists():\n",
    "        print('Downloading data...')\n",
    "        # Jeffrey Pennington, Richard Socher, and Christopher D. Manning. 2014. GloVe: Global Vectors for Word Representation. [pdf] [bib] \n",
    "        # https://nlp.stanford.edu/projects/glove/\n",
    "        #  Wikipedia 2014 + Gigaword 5 (6B tokens, 400K vocab, uncased, 50d, 100d, 200d, & 300d vectors, 822 MB download): glove.6B.zip \n",
    "        !wget http://nlp.stanford.edu/data/glove.6B.zip\n",
    "        !unzip glove*.zip glove.6B.100d.txt  # 100 dimensions\n",
    "\n",
    "    if pickle_file.exists():\n",
    "        with pickle_file.open('rb') as handle:\n",
    "            word_embeddings = pickle.load(handle)\n",
    "    else:\n",
    "        print('Processing embeddings data...')\n",
    "        word_embeddings = {}\n",
    "        with embedding_file.open('r', encoding='utf-8') as f:\n",
    "            for line in f:\n",
    "                values = line.split()\n",
    "                coefs = np.asarray(values[1:], dtype='float32')\n",
    "                word = values[0]\n",
    "                word_embeddings[word] = coefs\n",
    "        with open(pickle_file, 'wb') as handle:\n",
    "            pickle.dump(word_embeddings, handle, protocol=pickle.HIGHEST_PROTOCOL)\n",
    "        print('Pickle file created')\n",
    "        \n",
    "    print('loaded %s word vectors of %s dimensions.' % \n",
    "          (len(word_embeddings), len(next(iter(word_embeddings.values())))) )\n",
    "    return word_embeddings        "
   ]
  },
  {
   "cell_type": "code",
   "execution_count": 35,
   "id": "d9d381ee",
   "metadata": {},
   "outputs": [
    {
     "name": "stdout",
     "output_type": "stream",
     "text": [
      "loaded 400000 word vectors of 100 dimensions.\n"
     ]
    }
   ],
   "source": [
    "word_embeddings = gensim_word_embeddings()"
   ]
  },
  {
   "cell_type": "code",
   "execution_count": null,
   "id": "14366802",
   "metadata": {},
   "outputs": [],
   "source": []
  }
 ],
 "metadata": {
  "kernelspec": {
   "display_name": "Python 3 (ipykernel)",
   "language": "python",
   "name": "python3"
  },
  "language_info": {
   "codemirror_mode": {
    "name": "ipython",
    "version": 3
   },
   "file_extension": ".py",
   "mimetype": "text/x-python",
   "name": "python",
   "nbconvert_exporter": "python",
   "pygments_lexer": "ipython3",
   "version": "3.9.5"
  }
 },
 "nbformat": 4,
 "nbformat_minor": 5
}
