{
 "cells": [
  {
   "cell_type": "markdown",
   "id": "c54deb33",
   "metadata": {},
   "source": [
    "# Q&A\n",
    "+ compares several models for english and spanish languages"
   ]
  },
  {
   "cell_type": "code",
   "execution_count": 4,
   "id": "c183c424",
   "metadata": {},
   "outputs": [
    {
     "name": "stderr",
     "output_type": "stream",
     "text": [
      "2023-03-08 17:41:30.121274: I tensorflow/core/platform/cpu_feature_guard.cc:193] This TensorFlow binary is optimized with oneAPI Deep Neural Network Library (oneDNN) to use the following CPU instructions in performance-critical operations:  FMA\n",
      "To enable them in other operations, rebuild TensorFlow with the appropriate compiler flags.\n",
      "2023-03-08 17:41:30.305997: W tensorflow/compiler/xla/stream_executor/platform/default/dso_loader.cc:64] Could not load dynamic library 'libcudart.so.11.0'; dlerror: libcudart.so.11.0: cannot open shared object file: No such file or directory\n",
      "2023-03-08 17:41:30.306020: I tensorflow/compiler/xla/stream_executor/cuda/cudart_stub.cc:29] Ignore above cudart dlerror if you do not have a GPU set up on your machine.\n",
      "2023-03-08 17:41:31.345409: W tensorflow/compiler/xla/stream_executor/platform/default/dso_loader.cc:64] Could not load dynamic library 'libnvinfer.so.7'; dlerror: libnvinfer.so.7: cannot open shared object file: No such file or directory\n",
      "2023-03-08 17:41:31.345500: W tensorflow/compiler/xla/stream_executor/platform/default/dso_loader.cc:64] Could not load dynamic library 'libnvinfer_plugin.so.7'; dlerror: libnvinfer_plugin.so.7: cannot open shared object file: No such file or directory\n",
      "2023-03-08 17:41:31.345511: W tensorflow/compiler/tf2tensorrt/utils/py_utils.cc:38] TF-TRT Warning: Cannot dlopen some TensorRT libraries. If you would like to use Nvidia GPU with TensorRT, please make sure the missing libraries mentioned above are installed properly.\n"
     ]
    }
   ],
   "source": [
    "from transformers import AutoModelForQuestionAnswering, AutoTokenizer, pipeline"
   ]
  },
  {
   "cell_type": "code",
   "execution_count": 2,
   "id": "c462aaf4",
   "metadata": {},
   "outputs": [],
   "source": [
    "def generate_answer(context, question):\n",
    "    question_set = {\n",
    "                    'question': question,\n",
    "                    'context': context\n",
    "                   }\n",
    "    return nlp(question_set)"
   ]
  },
  {
   "cell_type": "markdown",
   "id": "9d54ed5f",
   "metadata": {},
   "source": [
    "## ES"
   ]
  },
  {
   "cell_type": "code",
   "execution_count": 17,
   "id": "59bf1092",
   "metadata": {},
   "outputs": [],
   "source": [
    "text = \"En la famosa película, Darth Vader le dice a Luke Skywalker aquella frase que todos recordamos: yo soy tu padre.\"\n",
    "questions = [\"¿Quién es el padre de Luke Skywalker?\",\n",
    "            \"¿Qué le dice Darth Vader a Luke Skywalker?\"]"
   ]
  },
  {
   "cell_type": "code",
   "execution_count": 27,
   "id": "4b52f72a",
   "metadata": {},
   "outputs": [],
   "source": [
    "test_models = [\n",
    "    \"mrm8488/distill-bert-base-spanish-wwm-cased-finetuned-spa-squad2-es\",  # distilled version of BETO for Q&A.\n",
    "    \"mrm8488/bert-base-spanish-wwm-cased-finetuned-spa-squad2-es\",  # \"f1\": 86.07818773108252,\n",
    "    \"timpal0l/mdeberta-v3-base-squad2\",  # \"eval_HasAns_f1\": 85.91387795001529,\n",
    "    \"IIC/roberta-base-spanish-sqac\",\n",
    "    \"IIC/beto-base-spanish-sqac\",\n",
    "    \"PlanTL-GOB-ES/roberta-large-bne-sqac\",  # F1 82.02\n",
    "]"
   ]
  },
  {
   "cell_type": "code",
   "execution_count": 28,
   "id": "f0d875de",
   "metadata": {},
   "outputs": [
    {
     "name": "stdout",
     "output_type": "stream",
     "text": [
      "MODEL:  mrm8488/distill-bert-base-spanish-wwm-cased-finetuned-spa-squad2-es\n",
      "\t Darth Vader\n",
      "\t yo soy tu padre\n",
      "MODEL:  mrm8488/bert-base-spanish-wwm-cased-finetuned-spa-squad2-es\n",
      "\t Darth Vader\n",
      "\t aquella frase que todos recordamos: yo soy tu padre\n",
      "MODEL:  timpal0l/mdeberta-v3-base-squad2\n",
      "\t  Darth Vader\n",
      "\t  yo soy tu padre.\n",
      "MODEL:  IIC/roberta-base-spanish-sqac\n",
      "\t Darth Vader\n",
      "\t aquella frase que todos recordamos: yo soy tu padre\n",
      "MODEL:  IIC/beto-base-spanish-sqac\n",
      "\t Darth Vader\n",
      "\t aquella frase que todos recordamos: yo soy tu padre\n",
      "MODEL:  PlanTL-GOB-ES/roberta-large-bne-sqac\n",
      "\t Darth Vader\n",
      "\t aquella frase que todos recordamos: yo soy tu padre\n"
     ]
    }
   ],
   "source": [
    "for model in test_models:\n",
    "    nlp = pipeline('question-answering', model=model, tokenizer=model)\n",
    "    print('MODEL: ', model)\n",
    "    for question in questions:\n",
    "        result = generate_answer(text, question)\n",
    "        print('\\t', result['answer'])"
   ]
  },
  {
   "cell_type": "markdown",
   "id": "a313a1e1",
   "metadata": {},
   "source": [
    "## EN"
   ]
  },
  {
   "cell_type": "code",
   "execution_count": 31,
   "id": "953637bc",
   "metadata": {},
   "outputs": [],
   "source": [
    "# from Wikipedia https://en.wikipedia.org/wiki/Sun\n",
    "text = \"\"\"\n",
    "The Sun is the star at the center of the Solar System. It is a nearly perfect ball of hot plasma, heated to incandescence by nuclear fusion reactions in its core. The Sun radiates this energy mainly as light, ultraviolet, and infrared radiation, and is the most important source of energy for life on Earth.\n",
    "The Sun's radius is about 695,000 kilometers (432,000 miles), or 109 times that of Earth. Its mass is about 330,000 times that of Earth, comprising about 99.86% of the total mass of the Solar System. Roughly three-quarters of the Sun's mass consists of hydrogen (~73%); the rest is mostly helium (~25%), with much smaller quantities of heavier elements, including oxygen, carbon, neon, and iron.\n",
    "The Sun is a G-type main-sequence star (G2V). As such, it is informally, and not completely accurately, referred to as a yellow dwarf (its light is actually white). It formed approximately 4.6 billion years ago from the gravitational collapse of matter within a region of a large molecular cloud. Most of this matter gathered in the center, whereas the rest flattened into an orbiting disk that became the Solar System. The central mass became so hot and dense that it eventually initiated nuclear fusion in its core. It is thought that almost all stars form by this process. \n",
    "\"\"\"\n",
    "questions = [\"¿What star type is the sun?\",\n",
    "            \"¿How big is the Sun?\",\n",
    "            \"¿How large is the Sun?\",\n",
    "            \"Is the Sun a star?\",\n",
    "            \"Where does the energy of the Sun comes from?\",\n",
    "            \"What the sun is made of?\",\n",
    "            \"What elements is the Sun made of?\"]"
   ]
  },
  {
   "cell_type": "code",
   "execution_count": 35,
   "id": "7222c2bf",
   "metadata": {},
   "outputs": [],
   "source": [
    "test_models = [\n",
    "    \"deepset/roberta-base-squad2\",  # \"f1\": 82.91251169582613,\n",
    "    \"bert-large-uncased-whole-word-masking-finetuned-squad\",  # f1 = 93.15\n",
    "    \"distilbert-base-cased-distilled-squad\",  # F1 score of 87.1 on the [SQuAD v1.1] dev set\n",
    "]"
   ]
  },
  {
   "cell_type": "code",
   "execution_count": 37,
   "id": "1fd8edb8",
   "metadata": {},
   "outputs": [
    {
     "name": "stdout",
     "output_type": "stream",
     "text": [
      "MODEL:  deepset/roberta-base-squad2\n",
      "\t G-type\n",
      "\t 330,000 times that of Earth\n",
      "\t 330,000 times that of Earth\n",
      "\t The Sun is the star at the center of the Solar System\n",
      "\t light, ultraviolet, and infrared radiation\n",
      "\t hot plasma\n",
      "\t oxygen, carbon, neon, and iron\n",
      "MODEL:  bert-large-uncased-whole-word-masking-finetuned-squad\n",
      "\t G-type main-sequence star\n",
      "\t 695,000 kilometers (432,000 miles)\n",
      "\t 695,000 kilometers (432,000 miles)\n",
      "\t The Sun is a G-type main-sequence star\n",
      "\t light, ultraviolet, and infrared radiation\n",
      "\t hot plasma\n",
      "\t oxygen, carbon, neon, and iron\n",
      "MODEL:  distilbert-base-cased-distilled-squad\n",
      "\t G-type main-sequence star\n",
      "\t 695,000 kilometers\n",
      "\t 695,000 kilometers\n",
      "\t The Sun is the star at the center of the Solar System\n",
      "\t light, ultraviolet, and infrared radiation\n",
      "\t hot plasma\n",
      "\t oxygen, carbon, neon, and iron\n"
     ]
    }
   ],
   "source": [
    "for model in test_models:\n",
    "    nlp = pipeline('question-answering', model=model, tokenizer=model)\n",
    "    print('MODEL: ', model)\n",
    "    for question in questions:\n",
    "        result = generate_answer(text, question)\n",
    "        print('\\t', result['answer'])"
   ]
  },
  {
   "cell_type": "code",
   "execution_count": null,
   "id": "134be19a",
   "metadata": {},
   "outputs": [],
   "source": []
  }
 ],
 "metadata": {
  "kernelspec": {
   "display_name": "Python 3 (ipykernel)",
   "language": "python",
   "name": "python3"
  },
  "language_info": {
   "codemirror_mode": {
    "name": "ipython",
    "version": 3
   },
   "file_extension": ".py",
   "mimetype": "text/x-python",
   "name": "python",
   "nbconvert_exporter": "python",
   "pygments_lexer": "ipython3",
   "version": "3.9.5"
  }
 },
 "nbformat": 4,
 "nbformat_minor": 5
}
