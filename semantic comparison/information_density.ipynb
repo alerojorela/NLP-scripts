{
 "cells": [
  {
   "cell_type": "markdown",
   "id": "d00c6742",
   "metadata": {},
   "source": [
    "# Information density using sentence semantic similarity\n",
    "+ normalize text and create sentences\n",
    "+ create an embedding for every sentence\n",
    "+ reduce complexity using cluster embeddings\n",
    "+ NOT YET pick the most central element in order to represent the cluster\n",
    "+ count clusters"
   ]
  },
  {
   "cell_type": "code",
   "execution_count": 1,
   "id": "e0b671e5",
   "metadata": {},
   "outputs": [
    {
     "name": "stderr",
     "output_type": "stream",
     "text": [
      "2023-03-09 19:37:14.980667: I tensorflow/core/platform/cpu_feature_guard.cc:193] This TensorFlow binary is optimized with oneAPI Deep Neural Network Library (oneDNN) to use the following CPU instructions in performance-critical operations:  FMA\n",
      "To enable them in other operations, rebuild TensorFlow with the appropriate compiler flags.\n",
      "2023-03-09 19:37:16.455370: W tensorflow/compiler/xla/stream_executor/platform/default/dso_loader.cc:64] Could not load dynamic library 'libnvinfer.so.7'; dlerror: libnvinfer.so.7: cannot open shared object file: No such file or directory\n",
      "2023-03-09 19:37:16.455480: W tensorflow/compiler/xla/stream_executor/platform/default/dso_loader.cc:64] Could not load dynamic library 'libnvinfer_plugin.so.7'; dlerror: libnvinfer_plugin.so.7: cannot open shared object file: No such file or directory\n",
      "2023-03-09 19:37:16.455493: W tensorflow/compiler/tf2tensorrt/utils/py_utils.cc:38] TF-TRT Warning: Cannot dlopen some TensorRT libraries. If you would like to use Nvidia GPU with TensorRT, please make sure the missing libraries mentioned above are installed properly.\n"
     ]
    }
   ],
   "source": [
    "import re\n",
    "import numpy as np\n",
    "\n",
    "from pyvis.network import Network\n",
    "from sentence_transformers import SentenceTransformer, util\n",
    "sentence_model = SentenceTransformer('symanto/sn-xlm-roberta-base-snli-mnli-anli-xnli')"
   ]
  },
  {
   "cell_type": "code",
   "execution_count": 2,
   "id": "b4b7d494",
   "metadata": {},
   "outputs": [],
   "source": [
    "import utils"
   ]
  },
  {
   "cell_type": "markdown",
   "id": "24dfb3c6",
   "metadata": {},
   "source": [
    "## Texts"
   ]
  },
  {
   "cell_type": "code",
   "execution_count": 3,
   "id": "5d892f90",
   "metadata": {},
   "outputs": [],
   "source": [
    "# Choosing redundant verses on two versions\n",
    "# W. Blake - Tiger\n",
    "# via https://poemario.com/el-tigre/\n",
    "# via https://www.zendalibros.com/5-poemas-de-william-blake/\n",
    "raw_text = \"\"\"\n",
    "¡Tigre! ¡Tigre!, fuego que ardes\n",
    "En los bosques de la noche,\n",
    "¿Qué mano inmortal, qué ojo\n",
    "Pudo idear tu terrible simetría?\n",
    "\n",
    "¡Tigre! ¡Tigre! luz llameante\n",
    "En los bosques de la noche,\n",
    "¿Qué ojo o mano inmortal\n",
    "Osó idear tu terrible simetría?\n",
    " \n",
    "Tigre, tigre, que te enciendes en luz\n",
    "por los bosques de la noche\n",
    "¿qué mano inmortal, qué ojo\n",
    "pudo idear tu terrible simetría?\n",
    "\n",
    "Tigre, tigre, que te enciendes en luz,\n",
    "por los bosques de la noche\n",
    "¿qué mano inmortal, qué ojo\n",
    "osó idear tu terrible simetría?\n",
    "\"\"\""
   ]
  },
  {
   "cell_type": "code",
   "execution_count": 41,
   "id": "64fc96c1",
   "metadata": {},
   "outputs": [
    {
     "data": {
      "text/plain": [
       "(16,\n",
       " ['¡Tigre! ¡Tigre!, fuego que ardes',\n",
       "  'En los bosques de la noche,',\n",
       "  '¿Qué mano inmortal, qué ojo',\n",
       "  'Pudo idear tu terrible simetría?',\n",
       "  '¡Tigre! ¡Tigre! luz llameante',\n",
       "  'En los bosques de la noche,',\n",
       "  '¿Qué ojo o mano inmortal',\n",
       "  'Osó idear tu terrible simetría?',\n",
       "  'Tigre, tigre, que te enciendes en luz',\n",
       "  'por los bosques de la noche',\n",
       "  '¿qué mano inmortal, qué ojo',\n",
       "  'pudo idear tu terrible simetría?',\n",
       "  'Tigre, tigre, que te enciendes en luz,',\n",
       "  'por los bosques de la noche',\n",
       "  '¿qué mano inmortal, qué ojo',\n",
       "  'osó idear tu terrible simetría?'])"
      ]
     },
     "execution_count": 41,
     "metadata": {},
     "output_type": "execute_result"
    }
   ],
   "source": [
    "# split into lines\n",
    "lines = utils.split_into_lines(raw_text)\n",
    "len(lines), lines"
   ]
  },
  {
   "cell_type": "code",
   "execution_count": 58,
   "id": "5f1adaca",
   "metadata": {},
   "outputs": [
    {
     "data": {
      "text/plain": [
       "(16, 768)"
      ]
     },
     "execution_count": 58,
     "metadata": {},
     "output_type": "execute_result"
    }
   ],
   "source": [
    "embeddings = [sentence_model.encode(_) for _ in lines]\n",
    "emb_arr = np.array(embeddings)\n",
    "emb_arr.shape"
   ]
  },
  {
   "cell_type": "code",
   "execution_count": 63,
   "id": "79f0282e",
   "metadata": {},
   "outputs": [
    {
     "data": {
      "text/plain": [
       "(4, array([3, 0, 2, 1, 3, 0, 2, 1, 3, 0, 2, 1, 3, 0, 2, 1], dtype=int32))"
      ]
     },
     "execution_count": 63,
     "metadata": {},
     "output_type": "execute_result"
    }
   ],
   "source": [
    "from sklearn.cluster import KMeans\n",
    "\n",
    "# kmeans = KMeans(max_iter=1000, random_state=True, n_init=50).fit(X=emb_arr.astype('double'))\n",
    "clusterer = KMeans(n_clusters=4, max_iter=1000, random_state=True, n_init=50) \\\n",
    "    .fit(X=emb_arr.astype('double'))\n",
    "clusterer.labels_.max() + 1, clusterer.labels_"
   ]
  },
  {
   "cell_type": "code",
   "execution_count": 64,
   "id": "169f3c98",
   "metadata": {},
   "outputs": [
    {
     "data": {
      "text/plain": [
       "[(0, 'En los bosques de la noche,'),\n",
       " (0, 'En los bosques de la noche,'),\n",
       " (0, 'por los bosques de la noche'),\n",
       " (0, 'por los bosques de la noche'),\n",
       " (1, 'Osó idear tu terrible simetría?'),\n",
       " (1, 'Pudo idear tu terrible simetría?'),\n",
       " (1, 'osó idear tu terrible simetría?'),\n",
       " (1, 'pudo idear tu terrible simetría?'),\n",
       " (2, '¿Qué mano inmortal, qué ojo'),\n",
       " (2, '¿Qué ojo o mano inmortal'),\n",
       " (2, '¿qué mano inmortal, qué ojo'),\n",
       " (2, '¿qué mano inmortal, qué ojo'),\n",
       " (3, 'Tigre, tigre, que te enciendes en luz'),\n",
       " (3, 'Tigre, tigre, que te enciendes en luz,'),\n",
       " (3, '¡Tigre! ¡Tigre! luz llameante'),\n",
       " (3, '¡Tigre! ¡Tigre!, fuego que ardes')]"
      ]
     },
     "execution_count": 64,
     "metadata": {},
     "output_type": "execute_result"
    }
   ],
   "source": [
    "mapping = [(label, lines[index]) for index, label in enumerate(clusterer.labels_)]\n",
    "# dd.sort()\n",
    "sorted(mapping)"
   ]
  },
  {
   "cell_type": "code",
   "execution_count": 65,
   "id": "cef97f05",
   "metadata": {},
   "outputs": [
    {
     "data": {
      "text/plain": [
       "(8, array([4, 1, 0, 2, 5, 1, 6, 7, 3, 1, 0, 2, 3, 1, 0, 7], dtype=int32))"
      ]
     },
     "execution_count": 65,
     "metadata": {},
     "output_type": "execute_result"
    }
   ],
   "source": [
    "clusterer = KMeans(max_iter=1000, random_state=True, n_init=50) \\\n",
    "    .fit(X=emb_arr.astype('double'))\n",
    "clusterer.labels_.max() + 1, clusterer.labels_"
   ]
  },
  {
   "cell_type": "code",
   "execution_count": 66,
   "id": "01e3c6ff",
   "metadata": {},
   "outputs": [
    {
     "data": {
      "text/plain": [
       "[(0, '¿Qué mano inmortal, qué ojo'),\n",
       " (0, '¿qué mano inmortal, qué ojo'),\n",
       " (0, '¿qué mano inmortal, qué ojo'),\n",
       " (1, 'En los bosques de la noche,'),\n",
       " (1, 'En los bosques de la noche,'),\n",
       " (1, 'por los bosques de la noche'),\n",
       " (1, 'por los bosques de la noche'),\n",
       " (2, 'Pudo idear tu terrible simetría?'),\n",
       " (2, 'pudo idear tu terrible simetría?'),\n",
       " (3, 'Tigre, tigre, que te enciendes en luz'),\n",
       " (3, 'Tigre, tigre, que te enciendes en luz,'),\n",
       " (4, '¡Tigre! ¡Tigre!, fuego que ardes'),\n",
       " (5, '¡Tigre! ¡Tigre! luz llameante'),\n",
       " (6, '¿Qué ojo o mano inmortal'),\n",
       " (7, 'Osó idear tu terrible simetría?'),\n",
       " (7, 'osó idear tu terrible simetría?')]"
      ]
     },
     "execution_count": 66,
     "metadata": {},
     "output_type": "execute_result"
    }
   ],
   "source": [
    "mapping = [(label, lines[index]) for index, label in enumerate(clusterer.labels_)]\n",
    "# dd.sort()\n",
    "sorted(mapping)"
   ]
  },
  {
   "cell_type": "code",
   "execution_count": null,
   "id": "6e1c78d6",
   "metadata": {},
   "outputs": [],
   "source": []
  }
 ],
 "metadata": {
  "kernelspec": {
   "display_name": "Python 3 (ipykernel)",
   "language": "python",
   "name": "python3"
  },
  "language_info": {
   "codemirror_mode": {
    "name": "ipython",
    "version": 3
   },
   "file_extension": ".py",
   "mimetype": "text/x-python",
   "name": "python",
   "nbconvert_exporter": "python",
   "pygments_lexer": "ipython3",
   "version": "3.9.5"
  }
 },
 "nbformat": 4,
 "nbformat_minor": 5
}
