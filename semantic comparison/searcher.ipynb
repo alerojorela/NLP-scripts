{
 "cells": [
  {
   "cell_type": "markdown",
   "id": "6c6d909e",
   "metadata": {},
   "source": [
    "# Semantic search\n",
    "Looks for the most similar word range from a base text to a given expression"
   ]
  },
  {
   "cell_type": "code",
   "execution_count": 1,
   "id": "8f979dd0",
   "metadata": {},
   "outputs": [
    {
     "name": "stderr",
     "output_type": "stream",
     "text": [
      "/home/targa/miniconda3/lib/python3.9/site-packages/torch/cuda/__init__.py:497: UserWarning: Can't initialize NVML\n",
      "  warnings.warn(\"Can't initialize NVML\")\n",
      "2023-03-12 21:39:57.015874: I tensorflow/core/platform/cpu_feature_guard.cc:193] This TensorFlow binary is optimized with oneAPI Deep Neural Network Library (oneDNN) to use the following CPU instructions in performance-critical operations:  FMA\n",
      "To enable them in other operations, rebuild TensorFlow with the appropriate compiler flags.\n",
      "2023-03-12 21:39:58.358706: W tensorflow/compiler/xla/stream_executor/platform/default/dso_loader.cc:64] Could not load dynamic library 'libnvinfer.so.7'; dlerror: libnvinfer.so.7: cannot open shared object file: No such file or directory\n",
      "2023-03-12 21:39:58.358838: W tensorflow/compiler/xla/stream_executor/platform/default/dso_loader.cc:64] Could not load dynamic library 'libnvinfer_plugin.so.7'; dlerror: libnvinfer_plugin.so.7: cannot open shared object file: No such file or directory\n",
      "2023-03-12 21:39:58.358854: W tensorflow/compiler/tf2tensorrt/utils/py_utils.cc:38] TF-TRT Warning: Cannot dlopen some TensorRT libraries. If you would like to use Nvidia GPU with TensorRT, please make sure the missing libraries mentioned above are installed properly.\n",
      "2023-03-12 21:40:00.003917: E tensorflow/compiler/xla/stream_executor/cuda/cuda_driver.cc:267] failed call to cuInit: CUDA_ERROR_NO_DEVICE: no CUDA-capable device is detected\n",
      "2023-03-12 21:40:00.003984: I tensorflow/compiler/xla/stream_executor/cuda/cuda_diagnostics.cc:156] kernel driver does not appear to be running on this host (targa): /proc/driver/nvidia/version does not exist\n"
     ]
    }
   ],
   "source": [
    "import numpy as np\n",
    "import matplotlib.pyplot as plt\n",
    "from scipy.signal import savgol_filter\n",
    "# NLP\n",
    "import spacy"
   ]
  },
  {
   "cell_type": "code",
   "execution_count": 2,
   "id": "38055a7f",
   "metadata": {},
   "outputs": [],
   "source": [
    "# es_core_news_lg 500000 keys, 500000 unique vectors (300 dimensions)\n",
    "nlp = spacy.load(\"es_core_news_lg\")"
   ]
  },
  {
   "cell_type": "markdown",
   "id": "9be91b3c",
   "metadata": {},
   "source": [
    "## Text and search expression"
   ]
  },
  {
   "cell_type": "code",
   "execution_count": 3,
   "id": "5fd185e0",
   "metadata": {},
   "outputs": [],
   "source": [
    "text = \"\"\"\n",
    "Johann Sebastian Bach... fue un compositor, músico, director de orquesta, maestro de capilla, cantor y profesor alemán del período barroco.\n",
    "Fue el miembro más importante de una de las familias de músicos más destacadas de la historia, con más de 35 compositores famosos: la familia Bach. Tuvo una gran fama como organista y clavecinista en toda Europa por su gran técnica y capacidad de improvisar música al teclado. Además del órgano y del clavecín, tocaba el violín y la viola da gamba.\n",
    "Su fecunda obra es considerada la cima de la música barroca; destaca en ella su profundidad intelectual, su perfección técnica y su belleza artística, además de la síntesis de los diversos estilos nacionales de su época y del pasado. Bach es considerado el último gran maestro del arte del contrapunto1 y fuente de inspiración e influencia para posteriores compositores y músicos, tales como Joseph Haydn, Wolfgang Amadeus Mozart, Ludwig van Beethoven, Felix Mendelssohn, Robert Schumann y Frédéric Chopin, entre muchos otros. \n",
    "La obra de Bach se puede dividir en tres grandes períodos bien diferenciados, marcados por las influencias y la asimilación de los estilos de su época, el desarrollo, búsqueda y evolución de su estilo personal, y los puestos profesionales que desempeñó\n",
    "El primer período, el de aprendizaje y estudio, va desde 1700 hasta 1713, estando ya en Weimar; en él escribió música para teclado y cantatas sacras, y formó su estilo, que sintetizó toda la tradición de la música clásica europea precedente: la polifonía clásica fijada en tiempos de Giovanni Pierluigi da Palestrina; el primer Barroco de Girolamo Frescobaldi; la música francesa del siglo XVII; y la de autores alemanes e italianos de su época como Dietrich Buxtehude, Johann Pachelbel y Antonio Vivaldi. De este último copió y adaptó obras desde su juventud: así lo hizo en Weimar, cuando, gracias al duque, pudo versionar algunas de sus obras en sus Conciertos BWV 592-597 y BWV 972-987. Bach también se interesaba en compositores contemporáneos, a quienes estudiaba y con muchos de los cuales mantuvo una relación personal directa. Entre ellos se encontraban Jan Dismas Zelenka, Johann Mattheson, Georg Philipp Telemann, Reinhard Keiser y Georg Friedrich Händel\n",
    "\"\"\"\n",
    "search_for = \"Bach es uno de los compositores más importantes de la historia\""
   ]
  },
  {
   "cell_type": "markdown",
   "id": "d6f9d746",
   "metadata": {},
   "source": [
    "Colaboradores de Wikipedia. Johann Sebastian Bach [en línea]. Wikipedia, La enciclopedia libre, 2023 [fecha de consulta: 12 de marzo del 2023]. Disponible en <https://es.wikipedia.org/w/index.php?title=Johann_Sebastian_Bach&oldid=149687973>. "
   ]
  },
  {
   "cell_type": "markdown",
   "id": "86726a1b",
   "metadata": {},
   "source": [
    "## Spacy parsing"
   ]
  },
  {
   "cell_type": "code",
   "execution_count": 4,
   "id": "21b7b0d3",
   "metadata": {},
   "outputs": [
    {
     "data": {
      "text/plain": [
       "\n",
       "Johann Sebastian Bach... fue un compositor, músico, director de orquesta, maestro de capilla, cantor y profesor alemán del período barroco.\n",
       "Fue el miembro más importante de una de las familias de músicos más destacadas de la historia, con más de 35 compositores famosos: la familia Bach. Tuvo una gran fama como organista y clavecinista en toda Europa por su gran técnica y capacidad de improvisar música al teclado. Además del órgano y del clavecín, tocaba el violín y la viola da gamba.\n",
       "Su fecunda obra es considerada la cima de la música barroca; destaca en ella su profundidad intelectual, su perfección técnica y su belleza artística, además de la síntesis de los diversos estilos nacionales de su época y del pasado. Bach es considerado el último gran maestro del arte del contrapunto1 y fuente de inspiración e influencia para posteriores compositores y músicos, tales como Joseph Haydn, Wolfgang Amadeus Mozart, Ludwig van Beethoven, Felix Mendelssohn, Robert Schumann y Frédéric Chopin, entre muchos otros. \n",
       "La obra de Bach se puede dividir en tres grandes períodos bien diferenciados, marcados por las influencias y la asimilación de los estilos de su época, el desarrollo, búsqueda y evolución de su estilo personal, y los puestos profesionales que desempeñó\n",
       "El primer período, el de aprendizaje y estudio, va desde 1700 hasta 1713, estando ya en Weimar; en él escribió música para teclado y cantatas sacras, y formó su estilo, que sintetizó toda la tradición de la música clásica europea precedente: la polifonía clásica fijada en tiempos de Giovanni Pierluigi da Palestrina; el primer Barroco de Girolamo Frescobaldi; la música francesa del siglo XVII; y la de autores alemanes e italianos de su época como Dietrich Buxtehude, Johann Pachelbel y Antonio Vivaldi. De este último copió y adaptó obras desde su juventud: así lo hizo en Weimar, cuando, gracias al duque, pudo versionar algunas de sus obras en sus Conciertos BWV 592-597 y BWV 972-987. Bach también se interesaba en compositores contemporáneos, a quienes estudiaba y con muchos de los cuales mantuvo una relación personal directa. Entre ellos se encontraban Jan Dismas Zelenka, Johann Mattheson, Georg Philipp Telemann, Reinhard Keiser y Georg Friedrich Händel"
      ]
     },
     "execution_count": 4,
     "metadata": {},
     "output_type": "execute_result"
    }
   ],
   "source": [
    "base_doc = nlp(text)\n",
    "base_doc"
   ]
  },
  {
   "cell_type": "code",
   "execution_count": 5,
   "id": "384f9137",
   "metadata": {},
   "outputs": [
    {
     "data": {
      "text/plain": [
       "[('SPACE', '\\n'),\n",
       " ('PROPN', 'Johann'),\n",
       " ('PROPN', 'Sebastian'),\n",
       " ('PROPN', 'Bach'),\n",
       " ('PUNCT', '...'),\n",
       " ('AUX', 'ser'),\n",
       " ('DET', 'uno'),\n",
       " ('NOUN', 'compositor'),\n",
       " ('PUNCT', ','),\n",
       " ('NOUN', 'músico'),\n",
       " ('PUNCT', ','),\n",
       " ('NOUN', 'director'),\n",
       " ('ADP', 'de'),\n",
       " ('NOUN', 'orquesta'),\n",
       " ('PUNCT', ','),\n",
       " ('NOUN', 'maestro'),\n",
       " ('ADP', 'de'),\n",
       " ('NOUN', 'capilla'),\n",
       " ('PUNCT', ','),\n",
       " ('NOUN', 'cantor'),\n",
       " ('CCONJ', 'y'),\n",
       " ('NOUN', 'profesor'),\n",
       " ('ADJ', 'alemán'),\n",
       " ('ADP', 'del'),\n",
       " ('NOUN', 'período'),\n",
       " ('ADJ', 'barroco'),\n",
       " ('PUNCT', '.'),\n",
       " ('SPACE', '\\n'),\n",
       " ('AUX', 'ser'),\n",
       " ('DET', 'el'),\n",
       " ('NOUN', 'miembro'),\n",
       " ('ADV', 'más'),\n",
       " ('ADJ', 'importante'),\n",
       " ('ADP', 'de'),\n",
       " ('PRON', 'uno'),\n",
       " ('ADP', 'de'),\n",
       " ('DET', 'el'),\n",
       " ('NOUN', 'familia'),\n",
       " ('ADP', 'de'),\n",
       " ('NOUN', 'músico'),\n",
       " ('ADV', 'más'),\n",
       " ('ADJ', 'destacado'),\n",
       " ('ADP', 'de'),\n",
       " ('DET', 'el'),\n",
       " ('NOUN', 'historia'),\n",
       " ('PUNCT', ','),\n",
       " ('ADP', 'con'),\n",
       " ('ADV', 'más'),\n",
       " ('ADP', 'de'),\n",
       " ('NUM', '35'),\n",
       " ('NOUN', 'compositor'),\n",
       " ('ADJ', 'famoso'),\n",
       " ('PUNCT', ':'),\n",
       " ('DET', 'el'),\n",
       " ('NOUN', 'familia'),\n",
       " ('PROPN', 'Bach'),\n",
       " ('PUNCT', '.'),\n",
       " ('VERB', 'tener'),\n",
       " ('DET', 'uno'),\n",
       " ('ADJ', 'gran'),\n",
       " ('NOUN', 'fama'),\n",
       " ('SCONJ', 'como'),\n",
       " ('NOUN', 'organista'),\n",
       " ('CCONJ', 'y'),\n",
       " ('NOUN', 'clavecinista'),\n",
       " ('ADP', 'en'),\n",
       " ('DET', 'todo'),\n",
       " ('PROPN', 'Europa'),\n",
       " ('ADP', 'por'),\n",
       " ('DET', 'su'),\n",
       " ('ADJ', 'gran'),\n",
       " ('NOUN', 'técnica'),\n",
       " ('CCONJ', 'y'),\n",
       " ('NOUN', 'capacidad'),\n",
       " ('ADP', 'de'),\n",
       " ('VERB', 'improvisar'),\n",
       " ('NOUN', 'música'),\n",
       " ('ADP', 'al'),\n",
       " ('NOUN', 'teclado'),\n",
       " ('PUNCT', '.'),\n",
       " ('ADV', 'además'),\n",
       " ('DET', 'del'),\n",
       " ('NOUN', 'órgano'),\n",
       " ('CCONJ', 'y'),\n",
       " ('ADP', 'del'),\n",
       " ('PROPN', 'clavecín'),\n",
       " ('PUNCT', ','),\n",
       " ('VERB', 'tocar'),\n",
       " ('DET', 'el'),\n",
       " ('NOUN', 'violín'),\n",
       " ('CCONJ', 'y'),\n",
       " ('DET', 'el'),\n",
       " ('PROPN', 'viola'),\n",
       " ('VERB', 'dar'),\n",
       " ('NOUN', 'gamba'),\n",
       " ('PUNCT', '.'),\n",
       " ('SPACE', '\\n'),\n",
       " ('DET', 'su'),\n",
       " ('ADJ', 'fecundo'),\n",
       " ('NOUN', 'obra'),\n",
       " ('AUX', 'ser'),\n",
       " ('VERB', 'considerar'),\n",
       " ('DET', 'el'),\n",
       " ('NOUN', 'cima'),\n",
       " ('ADP', 'de'),\n",
       " ('DET', 'el'),\n",
       " ('NOUN', 'música'),\n",
       " ('ADJ', 'barroca'),\n",
       " ('PUNCT', ';'),\n",
       " ('VERB', 'destacar'),\n",
       " ('ADP', 'en'),\n",
       " ('PRON', 'él'),\n",
       " ('DET', 'su'),\n",
       " ('NOUN', 'profundidad'),\n",
       " ('ADJ', 'intelectual'),\n",
       " ('PUNCT', ','),\n",
       " ('DET', 'su'),\n",
       " ('NOUN', 'perfección'),\n",
       " ('ADJ', 'técnico'),\n",
       " ('CCONJ', 'y'),\n",
       " ('DET', 'su'),\n",
       " ('NOUN', 'belleza'),\n",
       " ('ADJ', 'artístico'),\n",
       " ('PUNCT', ','),\n",
       " ('ADV', 'además'),\n",
       " ('ADP', 'de'),\n",
       " ('DET', 'el'),\n",
       " ('NOUN', 'síntesis'),\n",
       " ('ADP', 'de'),\n",
       " ('DET', 'el'),\n",
       " ('DET', 'diverso'),\n",
       " ('NOUN', 'estilo'),\n",
       " ('ADJ', 'nacional'),\n",
       " ('ADP', 'de'),\n",
       " ('DET', 'su'),\n",
       " ('NOUN', 'época'),\n",
       " ('CCONJ', 'y'),\n",
       " ('ADP', 'del'),\n",
       " ('NOUN', 'pasado'),\n",
       " ('PUNCT', '.'),\n",
       " ('PROPN', 'Bach'),\n",
       " ('AUX', 'ser'),\n",
       " ('VERB', 'considerar'),\n",
       " ('DET', 'el'),\n",
       " ('ADJ', 'último'),\n",
       " ('ADJ', 'gran'),\n",
       " ('NOUN', 'maestro'),\n",
       " ('ADP', 'del'),\n",
       " ('NOUN', 'arte'),\n",
       " ('ADP', 'del'),\n",
       " ('PROPN', 'contrapunto1'),\n",
       " ('CCONJ', 'y'),\n",
       " ('NOUN', 'fuente'),\n",
       " ('ADP', 'de'),\n",
       " ('NOUN', 'inspiración'),\n",
       " ('CCONJ', 'e'),\n",
       " ('NOUN', 'influencia'),\n",
       " ('ADP', 'para'),\n",
       " ('ADJ', 'posterior'),\n",
       " ('NOUN', 'compositor'),\n",
       " ('CCONJ', 'y'),\n",
       " ('NOUN', 'músico'),\n",
       " ('PUNCT', ','),\n",
       " ('PRON', 'tal'),\n",
       " ('SCONJ', 'como'),\n",
       " ('PROPN', 'Joseph'),\n",
       " ('PROPN', 'Haydn'),\n",
       " ('PUNCT', ','),\n",
       " ('PROPN', 'Wolfgang'),\n",
       " ('PROPN', 'Amadeus'),\n",
       " ('PROPN', 'Mozart'),\n",
       " ('PUNCT', ','),\n",
       " ('PROPN', 'Ludwig'),\n",
       " ('VERB', 'ir'),\n",
       " ('PROPN', 'Beethoven'),\n",
       " ('PUNCT', ','),\n",
       " ('PROPN', 'Felix'),\n",
       " ('PROPN', 'Mendelssohn'),\n",
       " ('PUNCT', ','),\n",
       " ('PROPN', 'Robert'),\n",
       " ('PROPN', 'Schumann'),\n",
       " ('CCONJ', 'y'),\n",
       " ('PROPN', 'Frédéric'),\n",
       " ('PROPN', 'Chopin'),\n",
       " ('PUNCT', ','),\n",
       " ('ADP', 'entre'),\n",
       " ('DET', 'mucho'),\n",
       " ('PRON', 'otro'),\n",
       " ('PUNCT', '.'),\n",
       " ('SPACE', '\\n'),\n",
       " ('DET', 'el'),\n",
       " ('NOUN', 'obra'),\n",
       " ('ADP', 'de'),\n",
       " ('PROPN', 'Bach'),\n",
       " ('PRON', 'él'),\n",
       " ('AUX', 'poder'),\n",
       " ('VERB', 'dividir'),\n",
       " ('ADP', 'en'),\n",
       " ('NUM', 'tres'),\n",
       " ('ADJ', 'grande'),\n",
       " ('NOUN', 'período'),\n",
       " ('ADV', 'bien'),\n",
       " ('ADJ', 'diferenciado'),\n",
       " ('PUNCT', ','),\n",
       " ('ADJ', 'marcado'),\n",
       " ('ADP', 'por'),\n",
       " ('DET', 'el'),\n",
       " ('NOUN', 'influencia'),\n",
       " ('CCONJ', 'y'),\n",
       " ('DET', 'el'),\n",
       " ('NOUN', 'asimilación'),\n",
       " ('ADP', 'de'),\n",
       " ('DET', 'el'),\n",
       " ('NOUN', 'estilo'),\n",
       " ('ADP', 'de'),\n",
       " ('DET', 'su'),\n",
       " ('NOUN', 'época'),\n",
       " ('PUNCT', ','),\n",
       " ('DET', 'el'),\n",
       " ('NOUN', 'desarrollo'),\n",
       " ('PUNCT', ','),\n",
       " ('NOUN', 'búsqueda'),\n",
       " ('CCONJ', 'y'),\n",
       " ('NOUN', 'evolución'),\n",
       " ('ADP', 'de'),\n",
       " ('DET', 'su'),\n",
       " ('NOUN', 'estilo'),\n",
       " ('ADJ', 'personal'),\n",
       " ('PUNCT', ','),\n",
       " ('CCONJ', 'y'),\n",
       " ('DET', 'el'),\n",
       " ('NOUN', 'puesto'),\n",
       " ('ADJ', 'profesional'),\n",
       " ('PRON', 'que'),\n",
       " ('VERB', 'desempeñar'),\n",
       " ('SPACE', '\\n'),\n",
       " ('DET', 'el'),\n",
       " ('ADJ', 'primero'),\n",
       " ('NOUN', 'período'),\n",
       " ('PUNCT', ','),\n",
       " ('DET', 'el'),\n",
       " ('ADP', 'de'),\n",
       " ('NOUN', 'aprendizaje'),\n",
       " ('CCONJ', 'y'),\n",
       " ('NOUN', 'estudio'),\n",
       " ('PUNCT', ','),\n",
       " ('VERB', 'ir'),\n",
       " ('ADP', 'desde'),\n",
       " ('NUM', '1700'),\n",
       " ('ADP', 'hasta'),\n",
       " ('NOUN', '1713'),\n",
       " ('PUNCT', ','),\n",
       " ('AUX', 'estar'),\n",
       " ('ADV', 'ya'),\n",
       " ('ADP', 'en'),\n",
       " ('PROPN', 'Weimar'),\n",
       " ('PUNCT', ';'),\n",
       " ('ADP', 'en'),\n",
       " ('PRON', 'él'),\n",
       " ('VERB', 'escribir'),\n",
       " ('NOUN', 'música'),\n",
       " ('ADP', 'para'),\n",
       " ('NOUN', 'teclado'),\n",
       " ('CCONJ', 'y'),\n",
       " ('NOUN', 'cantata'),\n",
       " ('ADJ', 'sacro'),\n",
       " ('PUNCT', ','),\n",
       " ('CCONJ', 'y'),\n",
       " ('VERB', 'formar'),\n",
       " ('DET', 'su'),\n",
       " ('NOUN', 'estilo'),\n",
       " ('PUNCT', ','),\n",
       " ('PRON', 'que'),\n",
       " ('VERB', 'sintetizar'),\n",
       " ('DET', 'todo'),\n",
       " ('DET', 'el'),\n",
       " ('NOUN', 'tradición'),\n",
       " ('ADP', 'de'),\n",
       " ('DET', 'el'),\n",
       " ('NOUN', 'música'),\n",
       " ('ADJ', 'clásico'),\n",
       " ('ADJ', 'europeo'),\n",
       " ('ADJ', 'precedente'),\n",
       " ('PUNCT', ':'),\n",
       " ('DET', 'el'),\n",
       " ('NOUN', 'polifonía'),\n",
       " ('ADJ', 'clásico'),\n",
       " ('ADJ', 'fijado'),\n",
       " ('ADP', 'en'),\n",
       " ('NOUN', 'tiempo'),\n",
       " ('ADP', 'de'),\n",
       " ('PROPN', 'Giovanni'),\n",
       " ('PROPN', 'Pierluigi'),\n",
       " ('ADP', 'da'),\n",
       " ('PROPN', 'Palestrina'),\n",
       " ('PUNCT', ';'),\n",
       " ('DET', 'el'),\n",
       " ('ADJ', 'primero'),\n",
       " ('PROPN', 'Barroco'),\n",
       " ('ADP', 'de'),\n",
       " ('PROPN', 'Girolamo'),\n",
       " ('PROPN', 'Frescobaldi'),\n",
       " ('PUNCT', ';'),\n",
       " ('DET', 'el'),\n",
       " ('NOUN', 'música'),\n",
       " ('ADJ', 'francés'),\n",
       " ('ADP', 'del'),\n",
       " ('NOUN', 'siglo'),\n",
       " ('NOUN', 'xvii'),\n",
       " ('PUNCT', ';'),\n",
       " ('CCONJ', 'y'),\n",
       " ('DET', 'el'),\n",
       " ('ADP', 'de'),\n",
       " ('NOUN', 'autor'),\n",
       " ('ADJ', 'alemán'),\n",
       " ('CCONJ', 'e'),\n",
       " ('NOUN', 'italiano'),\n",
       " ('ADP', 'de'),\n",
       " ('DET', 'su'),\n",
       " ('NOUN', 'época'),\n",
       " ('SCONJ', 'como'),\n",
       " ('PROPN', 'Dietrich'),\n",
       " ('PROPN', 'Buxtehude'),\n",
       " ('PUNCT', ','),\n",
       " ('PROPN', 'Johann'),\n",
       " ('PROPN', 'Pachelbel'),\n",
       " ('CCONJ', 'y'),\n",
       " ('PROPN', 'Antonio'),\n",
       " ('PROPN', 'Vivaldi'),\n",
       " ('PUNCT', '.'),\n",
       " ('ADP', 'de'),\n",
       " ('DET', 'este'),\n",
       " ('ADJ', 'último'),\n",
       " ('VERB', 'copiar'),\n",
       " ('CCONJ', 'y'),\n",
       " ('VERB', 'adaptar'),\n",
       " ('NOUN', 'obra'),\n",
       " ('ADP', 'desde'),\n",
       " ('DET', 'su'),\n",
       " ('NOUN', 'juventud'),\n",
       " ('PUNCT', ':'),\n",
       " ('ADV', 'así'),\n",
       " ('PRON', 'él'),\n",
       " ('VERB', 'hacer'),\n",
       " ('ADP', 'en'),\n",
       " ('PROPN', 'Weimar'),\n",
       " ('PUNCT', ','),\n",
       " ('PRON', 'cuando'),\n",
       " ('PUNCT', ','),\n",
       " ('NOUN', 'gracias'),\n",
       " ('DET', 'al'),\n",
       " ('NOUN', 'duque'),\n",
       " ('PUNCT', ','),\n",
       " ('AUX', 'poder'),\n",
       " ('VERB', 'versionar'),\n",
       " ('PRON', 'alguno'),\n",
       " ('ADP', 'de'),\n",
       " ('DET', 'su'),\n",
       " ('NOUN', 'obra'),\n",
       " ('ADP', 'en'),\n",
       " ('DET', 'su'),\n",
       " ('PROPN', 'Conciertos'),\n",
       " ('PROPN', 'BWV'),\n",
       " ('NUM', '592-597'),\n",
       " ('CCONJ', 'y'),\n",
       " ('PROPN', 'BWV'),\n",
       " ('NUM', '972-987'),\n",
       " ('PUNCT', '.'),\n",
       " ('PROPN', 'Bach'),\n",
       " ('ADV', 'también'),\n",
       " ('PRON', 'él'),\n",
       " ('VERB', 'interesar'),\n",
       " ('ADP', 'en'),\n",
       " ('NOUN', 'compositor'),\n",
       " ('ADJ', 'contemporáneo'),\n",
       " ('PUNCT', ','),\n",
       " ('ADP', 'a'),\n",
       " ('PRON', 'quien'),\n",
       " ('VERB', 'estudiar'),\n",
       " ('CCONJ', 'y'),\n",
       " ('ADP', 'con'),\n",
       " ('PRON', 'mucho'),\n",
       " ('ADP', 'de'),\n",
       " ('DET', 'el'),\n",
       " ('PRON', 'cual'),\n",
       " ('VERB', 'mantener'),\n",
       " ('DET', 'uno'),\n",
       " ('NOUN', 'relación'),\n",
       " ('ADJ', 'personal'),\n",
       " ('ADJ', 'directo'),\n",
       " ('PUNCT', '.'),\n",
       " ('ADP', 'entre'),\n",
       " ('PRON', 'él'),\n",
       " ('PRON', 'él'),\n",
       " ('VERB', 'encontrar'),\n",
       " ('PROPN', 'Jan'),\n",
       " ('PROPN', 'Dismas'),\n",
       " ('PROPN', 'Zelenka'),\n",
       " ('PUNCT', ','),\n",
       " ('PROPN', 'Johann'),\n",
       " ('PROPN', 'Mattheson'),\n",
       " ('PUNCT', ','),\n",
       " ('PROPN', 'Georg'),\n",
       " ('PROPN', 'Philipp'),\n",
       " ('PROPN', 'Telemann'),\n",
       " ('PUNCT', ','),\n",
       " ('PROPN', 'Reinhard'),\n",
       " ('PROPN', 'Keiser'),\n",
       " ('CCONJ', 'y'),\n",
       " ('PROPN', 'Georg'),\n",
       " ('PROPN', 'Friedrich'),\n",
       " ('PROPN', 'Händel'),\n",
       " ('SPACE', '\\n')]"
      ]
     },
     "execution_count": 5,
     "metadata": {},
     "output_type": "execute_result"
    }
   ],
   "source": [
    "[(token.pos_, token.lemma_) for token in base_doc]"
   ]
  },
  {
   "cell_type": "code",
   "execution_count": 6,
   "id": "833a95eb",
   "metadata": {},
   "outputs": [
    {
     "data": {
      "text/plain": [
       "{'ADJ',\n",
       " 'ADP',\n",
       " 'ADV',\n",
       " 'AUX',\n",
       " 'CCONJ',\n",
       " 'DET',\n",
       " 'NOUN',\n",
       " 'NUM',\n",
       " 'PRON',\n",
       " 'PROPN',\n",
       " 'PUNCT',\n",
       " 'SCONJ',\n",
       " 'SPACE',\n",
       " 'VERB'}"
      ]
     },
     "execution_count": 6,
     "metadata": {},
     "output_type": "execute_result"
    }
   ],
   "source": [
    "# all parts of speech found (POS)\n",
    "set([token.pos_ for token in base_doc])"
   ]
  },
  {
   "cell_type": "markdown",
   "id": "82b7c237",
   "metadata": {},
   "source": [
    "# Extracting lexical features"
   ]
  },
  {
   "cell_type": "code",
   "execution_count": 7,
   "id": "55f2e283",
   "metadata": {},
   "outputs": [],
   "source": [
    "# lexical features POS\n",
    "lexical_pos = ['VERB', 'ADJ', 'ADV', 'NOUN', 'PRON', 'PROPN']"
   ]
  },
  {
   "cell_type": "code",
   "execution_count": 8,
   "id": "c53d1208",
   "metadata": {},
   "outputs": [
    {
     "data": {
      "text/plain": [
       "[(1, Johann),\n",
       " (2, Sebastian),\n",
       " (3, Bach),\n",
       " (7, compositor),\n",
       " (9, músico),\n",
       " (11, director),\n",
       " (13, orquesta),\n",
       " (15, maestro),\n",
       " (17, capilla),\n",
       " (19, cantor),\n",
       " (21, profesor),\n",
       " (22, alemán),\n",
       " (24, período),\n",
       " (25, barroco),\n",
       " (30, miembro),\n",
       " (31, más),\n",
       " (32, importante),\n",
       " (34, una),\n",
       " (37, familias),\n",
       " (39, músicos),\n",
       " (40, más),\n",
       " (41, destacadas),\n",
       " (44, historia),\n",
       " (47, más),\n",
       " (50, compositores),\n",
       " (51, famosos),\n",
       " (54, familia),\n",
       " (55, Bach),\n",
       " (57, Tuvo),\n",
       " (59, gran),\n",
       " (60, fama),\n",
       " (62, organista),\n",
       " (64, clavecinista),\n",
       " (67, Europa),\n",
       " (70, gran),\n",
       " (71, técnica),\n",
       " (73, capacidad),\n",
       " (75, improvisar),\n",
       " (76, música),\n",
       " (78, teclado),\n",
       " (80, Además),\n",
       " (82, órgano),\n",
       " (85, clavecín),\n",
       " (87, tocaba),\n",
       " (89, violín),\n",
       " (92, viola),\n",
       " (93, da),\n",
       " (94, gamba),\n",
       " (98, fecunda),\n",
       " (99, obra),\n",
       " (101, considerada),\n",
       " (103, cima),\n",
       " (106, música),\n",
       " (107, barroca),\n",
       " (109, destaca),\n",
       " (111, ella),\n",
       " (113, profundidad),\n",
       " (114, intelectual),\n",
       " (117, perfección),\n",
       " (118, técnica),\n",
       " (121, belleza),\n",
       " (122, artística),\n",
       " (124, además),\n",
       " (127, síntesis),\n",
       " (131, estilos),\n",
       " (132, nacionales),\n",
       " (135, época),\n",
       " (138, pasado),\n",
       " (140, Bach),\n",
       " (142, considerado),\n",
       " (144, último),\n",
       " (145, gran),\n",
       " (146, maestro),\n",
       " (148, arte),\n",
       " (150, contrapunto1),\n",
       " (152, fuente),\n",
       " (154, inspiración),\n",
       " (156, influencia),\n",
       " (158, posteriores),\n",
       " (159, compositores),\n",
       " (161, músicos),\n",
       " (163, tales),\n",
       " (165, Joseph),\n",
       " (166, Haydn),\n",
       " (168, Wolfgang),\n",
       " (169, Amadeus),\n",
       " (170, Mozart),\n",
       " (172, Ludwig),\n",
       " (173, van),\n",
       " (174, Beethoven),\n",
       " (176, Felix),\n",
       " (177, Mendelssohn),\n",
       " (179, Robert),\n",
       " (180, Schumann),\n",
       " (182, Frédéric),\n",
       " (183, Chopin),\n",
       " (187, otros),\n",
       " (191, obra),\n",
       " (193, Bach),\n",
       " (194, se),\n",
       " (196, dividir),\n",
       " (199, grandes),\n",
       " (200, períodos),\n",
       " (201, bien),\n",
       " (202, diferenciados),\n",
       " (204, marcados),\n",
       " (207, influencias),\n",
       " (210, asimilación),\n",
       " (213, estilos),\n",
       " (216, época),\n",
       " (219, desarrollo),\n",
       " (221, búsqueda),\n",
       " (223, evolución),\n",
       " (226, estilo),\n",
       " (227, personal),\n",
       " (231, puestos),\n",
       " (232, profesionales),\n",
       " (233, que),\n",
       " (234, desempeñó),\n",
       " (237, primer),\n",
       " (238, período),\n",
       " (242, aprendizaje),\n",
       " (244, estudio),\n",
       " (246, va),\n",
       " (250, 1713),\n",
       " (253, ya),\n",
       " (255, Weimar),\n",
       " (258, él),\n",
       " (259, escribió),\n",
       " (260, música),\n",
       " (262, teclado),\n",
       " (264, cantatas),\n",
       " (265, sacras),\n",
       " (268, formó),\n",
       " (270, estilo),\n",
       " (272, que),\n",
       " (273, sintetizó),\n",
       " (276, tradición),\n",
       " (279, música),\n",
       " (280, clásica),\n",
       " (281, europea),\n",
       " (282, precedente),\n",
       " (285, polifonía),\n",
       " (286, clásica),\n",
       " (287, fijada),\n",
       " (289, tiempos),\n",
       " (291, Giovanni),\n",
       " (292, Pierluigi),\n",
       " (294, Palestrina),\n",
       " (297, primer),\n",
       " (298, Barroco),\n",
       " (300, Girolamo),\n",
       " (301, Frescobaldi),\n",
       " (304, música),\n",
       " (305, francesa),\n",
       " (307, siglo),\n",
       " (308, XVII),\n",
       " (313, autores),\n",
       " (314, alemanes),\n",
       " (316, italianos),\n",
       " (319, época),\n",
       " (321, Dietrich),\n",
       " (322, Buxtehude),\n",
       " (324, Johann),\n",
       " (325, Pachelbel),\n",
       " (327, Antonio),\n",
       " (328, Vivaldi),\n",
       " (332, último),\n",
       " (333, copió),\n",
       " (335, adaptó),\n",
       " (336, obras),\n",
       " (339, juventud),\n",
       " (341, así),\n",
       " (342, lo),\n",
       " (343, hizo),\n",
       " (345, Weimar),\n",
       " (347, cuando),\n",
       " (349, gracias),\n",
       " (351, duque),\n",
       " (354, versionar),\n",
       " (355, algunas),\n",
       " (358, obras),\n",
       " (361, Conciertos),\n",
       " (362, BWV),\n",
       " (365, BWV),\n",
       " (368, Bach),\n",
       " (369, también),\n",
       " (370, se),\n",
       " (371, interesaba),\n",
       " (373, compositores),\n",
       " (374, contemporáneos),\n",
       " (377, quienes),\n",
       " (378, estudiaba),\n",
       " (381, muchos),\n",
       " (384, cuales),\n",
       " (385, mantuvo),\n",
       " (387, relación),\n",
       " (388, personal),\n",
       " (389, directa),\n",
       " (392, ellos),\n",
       " (393, se),\n",
       " (394, encontraban),\n",
       " (395, Jan),\n",
       " (396, Dismas),\n",
       " (397, Zelenka),\n",
       " (399, Johann),\n",
       " (400, Mattheson),\n",
       " (402, Georg),\n",
       " (403, Philipp),\n",
       " (404, Telemann),\n",
       " (406, Reinhard),\n",
       " (407, Keiser),\n",
       " (409, Georg),\n",
       " (410, Friedrich),\n",
       " (411, Händel)]"
      ]
     },
     "execution_count": 8,
     "metadata": {},
     "output_type": "execute_result"
    }
   ],
   "source": [
    "base_lexical_features = [(index, token) for index, token in enumerate(base_doc) \n",
    "                       if token.pos_ in lexical_pos]\n",
    "base_lexical_features"
   ]
  },
  {
   "cell_type": "code",
   "execution_count": 9,
   "id": "36714c31",
   "metadata": {},
   "outputs": [
    {
     "data": {
      "text/plain": [
       "[(0, Bach),\n",
       " (2, uno),\n",
       " (5, compositores),\n",
       " (6, más),\n",
       " (7, importantes),\n",
       " (10, historia)]"
      ]
     },
     "execution_count": 9,
     "metadata": {},
     "output_type": "execute_result"
    }
   ],
   "source": [
    "search_doc = nlp(search_for)\n",
    "search_lexical_features = [(index, token) for index, token in enumerate(search_doc) \n",
    "                         if token.pos_ in lexical_pos]\n",
    "search_lexical_features"
   ]
  },
  {
   "cell_type": "markdown",
   "id": "72df437f",
   "metadata": {},
   "source": [
    "## Comparison\n"
   ]
  },
  {
   "cell_type": "code",
   "execution_count": 10,
   "id": "efcdc8c2",
   "metadata": {},
   "outputs": [],
   "source": [
    "### Similarity between the two lists AxB"
   ]
  },
  {
   "cell_type": "code",
   "execution_count": 11,
   "id": "f0255a75",
   "metadata": {},
   "outputs": [
    {
     "data": {
      "text/plain": [
       "(215, 6)"
      ]
     },
     "execution_count": 11,
     "metadata": {},
     "output_type": "execute_result"
    }
   ],
   "source": [
    "shape = len(base_lexical_features), len(search_lexical_features)\n",
    "similarity_cartesian_product = np.zeros(shape)\n",
    "similarity_cartesian_product.shape"
   ]
  },
  {
   "cell_type": "code",
   "execution_count": 12,
   "id": "b85024ed",
   "metadata": {},
   "outputs": [
    {
     "name": "stderr",
     "output_type": "stream",
     "text": [
      "/tmp/ipykernel_137979/3078917170.py:8: UserWarning: [W008] Evaluating Token.similarity based on empty vectors.\n",
      "  sim = base_token.similarity(search_token)\n"
     ]
    }
   ],
   "source": [
    "# cartesian product: token x token similarity, but aggregate on base \n",
    "for index1, (_, base_token) in enumerate(base_lexical_features):\n",
    "    for index2, (_, search_token) in enumerate(search_lexical_features):\n",
    "        if base_token.text == search_token.text:\n",
    "            similarity_cartesian_product[index1, index2] += 1\n",
    "        else:\n",
    "            try:\n",
    "                sim = base_token.similarity(search_token)\n",
    "                similarity_cartesian_product[index1, index2] += sim\n",
    "            except AttributeError:\n",
    "                print('method not found on', base_token, search_token)\n",
    "                # propn tienen vectores\n"
   ]
  },
  {
   "cell_type": "code",
   "execution_count": 13,
   "id": "25a13772",
   "metadata": {},
   "outputs": [
    {
     "data": {
      "text/plain": [
       "(0.48343128710985184, (215,))"
      ]
     },
     "execution_count": 13,
     "metadata": {},
     "output_type": "execute_result"
    }
   ],
   "source": [
    "# collapse columns using sum\n",
    "similarity_sums = similarity_cartesian_product.sum(axis=1)\n",
    "# normalize using column count\n",
    "similarity_sums /= similarity_cartesian_product.shape[1]\n",
    "similarity_sums.max(), similarity_sums.shape"
   ]
  },
  {
   "cell_type": "markdown",
   "id": "2a5467f2",
   "metadata": {},
   "source": [
    "### Simple threshold\n",
    "+ cons: discontinuity"
   ]
  },
  {
   "cell_type": "code",
   "execution_count": 14,
   "id": "6f496200",
   "metadata": {},
   "outputs": [
    {
     "data": {
      "text/plain": [
       "(0.3365259287257989, 0.48343128710985184)"
      ]
     },
     "execution_count": 14,
     "metadata": {},
     "output_type": "execute_result"
    }
   ],
   "source": [
    "quantile = 0.9\n",
    "threshold = np.quantile(similarity_sums, quantile)\n",
    "threshold, max(similarity_sums)"
   ]
  },
  {
   "cell_type": "code",
   "execution_count": 15,
   "id": "dc39749c",
   "metadata": {},
   "outputs": [
    {
     "data": {
      "image/png": "[encoded data removed]",
      "text/plain": [
       "<Figure size 640x480 with 1 Axes>"
      ]
     },
     "metadata": {},
     "output_type": "display_data"
    },
    {
     "data": {
      "text/plain": [
       "'Johann Sebastian Bach COMPOSITOR músico director orquesta maestro capilla cantor profesor alemán período barroco miembro MÁS importante una familias MÚSICOS MÁS destacadas HISTORIA MÁS COMPOSITORES famosos familia Bach Tuvo gran fama organista clavecinista Europa gran técnica capacidad improvisar música teclado Además órgano clavecín tocaba violín viola da gamba fecunda obra considerada cima música barroca destaca ella profundidad intelectual perfección técnica belleza artística ADEMÁS síntesis estilos nacionales época pasado Bach considerado último gran maestro arte contrapunto1 fuente INSPIRACIÓN INFLUENCIA posteriores COMPOSITORES MÚSICOS tales Joseph Haydn Wolfgang Amadeus Mozart Ludwig van Beethoven Felix Mendelssohn Robert Schumann Frédéric Chopin otros obra Bach se dividir GRANDES períodos bien DIFERENCIADOS marcados INFLUENCIAS asimilación estilos época desarrollo búsqueda EVOLUCIÓN estilo personal puestos profesionales que desempeñó primer período aprendizaje estudio va 1713 ya Weimar él escribió música teclado cantatas sacras formó estilo que sintetizó TRADICIÓN música clásica europea precedente polifonía clásica fijada tiempos Giovanni Pierluigi Palestrina primer Barroco Girolamo Frescobaldi música francesa siglo XVII AUTORES alemanes italianos época Dietrich Buxtehude Johann Pachelbel Antonio Vivaldi último copió adaptó obras juventud así lo hizo Weimar cuando gracias duque versionar algunas obras Conciertos BWV BWV Bach TAMBIÉN se interesaba COMPOSITORES CONTEMPORÁNEOS quienes estudiaba MUCHOS cuales mantuvo relación personal directa ellos se encontraban Jan Dismas Zelenka Johann Mattheson Georg Philipp Telemann Reinhard Keiser Georg Friedrich Händel'"
      ]
     },
     "execution_count": 15,
     "metadata": {},
     "output_type": "execute_result"
    }
   ],
   "source": [
    "plt.plot(similarity_sums, c='gray', linewidth=0.8)\n",
    "# max similarity\n",
    "filtered = similarity_sums.copy()\n",
    "filtered[similarity_sums < threshold] = np.nan\n",
    "plt.plot(filtered, c='red', linewidth=2)\n",
    "plt.show()\n",
    "\n",
    "' '.join([token.text.upper() if similarity_sums[index] > threshold else token.text\n",
    "          for index, (_, token) in enumerate(base_lexical_features)])"
   ]
  },
  {
   "cell_type": "markdown",
   "id": "f1a45d82",
   "metadata": {},
   "source": [
    "### Smooth and range around max value"
   ]
  },
  {
   "cell_type": "code",
   "execution_count": 16,
   "id": "99ae3a8b",
   "metadata": {},
   "outputs": [],
   "source": [
    "def smooth_and_range(values, \n",
    "                     quantile):\n",
    "    window_length = max(4, len(values) // 3)\n",
    "    if window_length % 2 == 0:  # even\n",
    "        window_length += 1  # window_length must be odd.\n",
    "    # Polyorder must be less than window_length.\n",
    "    polyorder = 3\n",
    "    \"\"\" Apply a Savitzky-Golay filter to an array.\n",
    "\n",
    "    This is a 1-D filter. If `x`  has dimension greater than 1, `axis`\n",
    "    determines the axis along which the filter is applied.\n",
    "\n",
    "    Parameters\n",
    "    ----------\n",
    "    x : array_like\n",
    "        The data to be filtered. If `x` is not a single or double precision\n",
    "        floating point array, it will be converted to type ``numpy.float64``\n",
    "        before filtering.\n",
    "    window_length : int\n",
    "        The length of the filter window (i.e., the number of coefficients).\n",
    "        If `mode` is 'interp', `window_length` must be less than or equal\n",
    "        to the size of `x`.\n",
    "    polyorder : int\n",
    "        The order of the polynomial used to fit the samples.\n",
    "        `polyorder` must be less than `window_length`.\n",
    "    \"\"\"    \n",
    "    filtered_values = savgol_filter(values, window_length=window_length, polyorder=polyorder)\n",
    "    \n",
    "    # define range around max point\n",
    "    # filtered_values.argmax(), filtered_values.max()\n",
    "    range_start = 0\n",
    "    range_end = 0\n",
    "    range_max = filtered_values.argmax()\n",
    "    min_q = np.quantile(filtered_values, quantile)\n",
    "    \n",
    "    indices = np.arange(values.shape[0])\n",
    "    xy = list(zip(indices, filtered_values))\n",
    "\n",
    "    # argmax leftwards (reversion)\n",
    "    for index, value in reversed(xy[:range_max]):\n",
    "        if value < min_q:\n",
    "            range_start = index\n",
    "            break\n",
    "    # argmax rightwards\n",
    "    for index, value in xy[range_max:]:\n",
    "        if value < min_q:\n",
    "            range_end = index\n",
    "            break\n",
    "    return range_start, range_max, range_end, filtered_values"
   ]
  },
  {
   "cell_type": "code",
   "execution_count": 17,
   "id": "4ccbcae3",
   "metadata": {},
   "outputs": [
    {
     "data": {
      "text/plain": [
       "(18,\n",
       " array([ 9, 10, 11, 12, 13, 14, 15, 16, 17, 18, 19, 20, 21, 22, 23, 24, 25,\n",
       "        26, 27, 28]))"
      ]
     },
     "execution_count": 17,
     "metadata": {},
     "output_type": "execute_result"
    }
   ],
   "source": [
    "quantile = 0.9\n",
    "range_start, range_max, range_end, filtered_values = smooth_and_range(similarity_sums,\n",
    "                                                               quantile=quantile)\n",
    "nrange = np.arange(range_start, range_end + 1)\n",
    "range_max, nrange"
   ]
  },
  {
   "cell_type": "code",
   "execution_count": 18,
   "id": "c6b0220e",
   "metadata": {},
   "outputs": [
    {
     "data": {
      "image/png": "[encoded data removed]",
      "text/plain": [
       "<Figure size 640x480 with 1 Axes>"
      ]
     },
     "metadata": {},
     "output_type": "display_data"
    },
    {
     "data": {
      "text/plain": [
       "'cantor profesor alemán período barroco miembro más importante una familias músicos más destacadas historia más compositores famosos familia Bach Tuvo'"
      ]
     },
     "execution_count": 18,
     "metadata": {},
     "output_type": "execute_result"
    }
   ],
   "source": [
    "plt.plot(similarity_sums, c='gray', linewidth=0.8)\n",
    "plt.plot(filtered_values, c='blue', linewidth=2)\n",
    "\n",
    "filtered = filtered_values.copy()\n",
    "mask = np.ones(filtered.shape, dtype=bool)\n",
    "mask[np.arange(range_start, range_end + 1)] = 0\n",
    "filtered[mask] = np.nan\n",
    "\n",
    "plt.plot(filtered, c='red', linewidth=2)\n",
    "plt.show()\n",
    "\n",
    "' '.join([base_lexical_features[index][1].text for index in list(nrange)])"
   ]
  },
  {
   "cell_type": "code",
   "execution_count": 19,
   "id": "5fd25144",
   "metadata": {},
   "outputs": [
    {
     "data": {
      "text/plain": [
       "(19, 57)"
      ]
     },
     "execution_count": 19,
     "metadata": {},
     "output_type": "execute_result"
    }
   ],
   "source": [
    "word_start, _ = base_lexical_features[range_start]\n",
    "word_end, _ = base_lexical_features[range_end]\n",
    "word_start, word_end"
   ]
  },
  {
   "cell_type": "code",
   "execution_count": 20,
   "id": "8d6d45d3",
   "metadata": {},
   "outputs": [
    {
     "data": {
      "text/plain": [
       "(Johann Sebastian Bach... fue un compositor, músico, director de orquesta, maestro de capilla, cantor y profesor alemán del período barroco.,\n",
       " Tuvo una gran fama como organista y clavecinista en toda Europa por su gran técnica y capacidad de improvisar música al teclado.)"
      ]
     },
     "execution_count": 20,
     "metadata": {},
     "output_type": "execute_result"
    }
   ],
   "source": [
    "# show whole sentences\n",
    "# base_doc[word_start].__dir__()\n",
    "base_doc[word_start].sent, base_doc[word_end].sent"
   ]
  },
  {
   "cell_type": "code",
   "execution_count": null,
   "id": "53efac30",
   "metadata": {},
   "outputs": [],
   "source": []
  }
 ],
 "metadata": {
  "kernelspec": {
   "display_name": "Python 3 (ipykernel)",
   "language": "python",
   "name": "python3"
  },
  "language_info": {
   "codemirror_mode": {
    "name": "ipython",
    "version": 3
   },
   "file_extension": ".py",
   "mimetype": "text/x-python",
   "name": "python",
   "nbconvert_exporter": "python",
   "pygments_lexer": "ipython3",
   "version": "3.9.5"
  }
 },
 "nbformat": 4,
 "nbformat_minor": 5
}
