{
 "cells": [
  {
   "cell_type": "markdown",
   "id": "2adc5269",
   "metadata": {},
   "source": [
    "# Attitude analysis"
   ]
  },
  {
   "cell_type": "code",
   "execution_count": 1,
   "id": "b9263219",
   "metadata": {
    "scrolled": true
   },
   "outputs": [
    {
     "name": "stdout",
     "output_type": "stream",
     "text": [
      "Requirement already satisfied: pysentimiento in /home/targa/miniconda3/lib/python3.9/site-packages (0.6.1)\n",
      "Requirement already satisfied: torch<2.0.0,>=1.13.1 in /home/targa/miniconda3/lib/python3.9/site-packages (from pysentimiento) (1.13.1)\n",
      "Requirement already satisfied: transformers>=4.13.0 in /home/targa/miniconda3/lib/python3.9/site-packages (from pysentimiento) (4.25.1)\n",
      "Requirement already satisfied: datasets>=1.13.3 in /home/targa/miniconda3/lib/python3.9/site-packages (from pysentimiento) (2.10.1)\n",
      "Requirement already satisfied: emoji<2.0.0,>=1.6.1 in /home/targa/miniconda3/lib/python3.9/site-packages (from pysentimiento) (1.7.0)\n",
      "Requirement already satisfied: spacy<4.0.0,>=3.5.0 in /home/targa/miniconda3/lib/python3.9/site-packages (from pysentimiento) (3.5.0)\n",
      "Requirement already satisfied: multiprocess in /home/targa/miniconda3/lib/python3.9/site-packages (from datasets>=1.13.3->pysentimiento) (0.70.14)\n",
      "Requirement already satisfied: responses<0.19 in /home/targa/miniconda3/lib/python3.9/site-packages (from datasets>=1.13.3->pysentimiento) (0.18.0)\n",
      "Requirement already satisfied: numpy>=1.17 in /home/targa/miniconda3/lib/python3.9/site-packages (from datasets>=1.13.3->pysentimiento) (1.22.4)\n",
      "Requirement already satisfied: aiohttp in /home/targa/miniconda3/lib/python3.9/site-packages (from datasets>=1.13.3->pysentimiento) (3.8.4)\n",
      "Requirement already satisfied: dill<0.3.7,>=0.3.0 in /home/targa/miniconda3/lib/python3.9/site-packages (from datasets>=1.13.3->pysentimiento) (0.3.6)\n",
      "Requirement already satisfied: pandas in /home/targa/miniconda3/lib/python3.9/site-packages (from datasets>=1.13.3->pysentimiento) (1.5.0)\n",
      "Requirement already satisfied: pyarrow>=6.0.0 in /home/targa/miniconda3/lib/python3.9/site-packages (from datasets>=1.13.3->pysentimiento) (11.0.0)\n",
      "Requirement already satisfied: requests>=2.19.0 in /home/targa/miniconda3/lib/python3.9/site-packages (from datasets>=1.13.3->pysentimiento) (2.28.1)\n",
      "Requirement already satisfied: fsspec[http]>=2021.11.1 in /home/targa/miniconda3/lib/python3.9/site-packages (from datasets>=1.13.3->pysentimiento) (2023.1.0)\n",
      "Requirement already satisfied: huggingface-hub<1.0.0,>=0.2.0 in /home/targa/miniconda3/lib/python3.9/site-packages (from datasets>=1.13.3->pysentimiento) (0.10.1)\n",
      "Requirement already satisfied: pyyaml>=5.1 in /home/targa/miniconda3/lib/python3.9/site-packages (from datasets>=1.13.3->pysentimiento) (6.0)\n",
      "Requirement already satisfied: xxhash in /home/targa/miniconda3/lib/python3.9/site-packages (from datasets>=1.13.3->pysentimiento) (3.2.0)\n",
      "Requirement already satisfied: packaging in /home/targa/miniconda3/lib/python3.9/site-packages (from datasets>=1.13.3->pysentimiento) (22.0)\n",
      "Requirement already satisfied: tqdm>=4.62.1 in /home/targa/miniconda3/lib/python3.9/site-packages (from datasets>=1.13.3->pysentimiento) (4.64.1)\n",
      "Requirement already satisfied: cymem<2.1.0,>=2.0.2 in /home/targa/miniconda3/lib/python3.9/site-packages (from spacy<4.0.0,>=3.5.0->pysentimiento) (2.0.7)\n",
      "Requirement already satisfied: catalogue<2.1.0,>=2.0.6 in /home/targa/miniconda3/lib/python3.9/site-packages (from spacy<4.0.0,>=3.5.0->pysentimiento) (2.0.8)\n",
      "Requirement already satisfied: langcodes<4.0.0,>=3.2.0 in /home/targa/miniconda3/lib/python3.9/site-packages (from spacy<4.0.0,>=3.5.0->pysentimiento) (3.3.0)\n",
      "Requirement already satisfied: wasabi<1.2.0,>=0.9.1 in /home/targa/miniconda3/lib/python3.9/site-packages (from spacy<4.0.0,>=3.5.0->pysentimiento) (1.1.1)\n",
      "Requirement already satisfied: srsly<3.0.0,>=2.4.3 in /home/targa/miniconda3/lib/python3.9/site-packages (from spacy<4.0.0,>=3.5.0->pysentimiento) (2.4.5)\n",
      "Requirement already satisfied: jinja2 in /home/targa/miniconda3/lib/python3.9/site-packages (from spacy<4.0.0,>=3.5.0->pysentimiento) (3.0.3)\n",
      "Requirement already satisfied: spacy-legacy<3.1.0,>=3.0.11 in /home/targa/miniconda3/lib/python3.9/site-packages (from spacy<4.0.0,>=3.5.0->pysentimiento) (3.0.12)\n",
      "Requirement already satisfied: murmurhash<1.1.0,>=0.28.0 in /home/targa/miniconda3/lib/python3.9/site-packages (from spacy<4.0.0,>=3.5.0->pysentimiento) (1.0.9)\n",
      "Requirement already satisfied: pathy>=0.10.0 in /home/targa/miniconda3/lib/python3.9/site-packages (from spacy<4.0.0,>=3.5.0->pysentimiento) (0.10.1)\n",
      "Requirement already satisfied: spacy-loggers<2.0.0,>=1.0.0 in /home/targa/miniconda3/lib/python3.9/site-packages (from spacy<4.0.0,>=3.5.0->pysentimiento) (1.0.4)\n",
      "Requirement already satisfied: typer<0.8.0,>=0.3.0 in /home/targa/miniconda3/lib/python3.9/site-packages (from spacy<4.0.0,>=3.5.0->pysentimiento) (0.7.0)\n",
      "Requirement already satisfied: setuptools in /home/targa/miniconda3/lib/python3.9/site-packages (from spacy<4.0.0,>=3.5.0->pysentimiento) (67.3.2)\n",
      "Requirement already satisfied: smart-open<7.0.0,>=5.2.1 in /home/targa/miniconda3/lib/python3.9/site-packages (from spacy<4.0.0,>=3.5.0->pysentimiento) (6.3.0)\n",
      "Requirement already satisfied: thinc<8.2.0,>=8.1.0 in /home/targa/miniconda3/lib/python3.9/site-packages (from spacy<4.0.0,>=3.5.0->pysentimiento) (8.1.7)\n",
      "Requirement already satisfied: preshed<3.1.0,>=3.0.2 in /home/targa/miniconda3/lib/python3.9/site-packages (from spacy<4.0.0,>=3.5.0->pysentimiento) (3.0.8)\n",
      "Requirement already satisfied: pydantic!=1.8,!=1.8.1,<1.11.0,>=1.7.4 in /home/targa/miniconda3/lib/python3.9/site-packages (from spacy<4.0.0,>=3.5.0->pysentimiento) (1.10.2)\n",
      "Requirement already satisfied: nvidia-cudnn-cu11==8.5.0.96 in /home/targa/miniconda3/lib/python3.9/site-packages (from torch<2.0.0,>=1.13.1->pysentimiento) (8.5.0.96)\n",
      "Requirement already satisfied: typing-extensions in /home/targa/miniconda3/lib/python3.9/site-packages (from torch<2.0.0,>=1.13.1->pysentimiento) (4.4.0)\n",
      "Requirement already satisfied: nvidia-cuda-runtime-cu11==11.7.99 in /home/targa/miniconda3/lib/python3.9/site-packages (from torch<2.0.0,>=1.13.1->pysentimiento) (11.7.99)\n",
      "Requirement already satisfied: nvidia-cuda-nvrtc-cu11==11.7.99 in /home/targa/miniconda3/lib/python3.9/site-packages (from torch<2.0.0,>=1.13.1->pysentimiento) (11.7.99)\n",
      "Requirement already satisfied: nvidia-cublas-cu11==11.10.3.66 in /home/targa/miniconda3/lib/python3.9/site-packages (from torch<2.0.0,>=1.13.1->pysentimiento) (11.10.3.66)\n",
      "Requirement already satisfied: wheel in /home/targa/miniconda3/lib/python3.9/site-packages (from nvidia-cublas-cu11==11.10.3.66->torch<2.0.0,>=1.13.1->pysentimiento) (0.38.4)\n",
      "Requirement already satisfied: filelock in /home/targa/miniconda3/lib/python3.9/site-packages (from transformers>=4.13.0->pysentimiento) (3.4.2)\n",
      "Requirement already satisfied: regex!=2019.12.17 in /home/targa/miniconda3/lib/python3.9/site-packages (from transformers>=4.13.0->pysentimiento) (2022.10.31)\n",
      "Requirement already satisfied: tokenizers!=0.11.3,<0.14,>=0.11.1 in /home/targa/miniconda3/lib/python3.9/site-packages (from transformers>=4.13.0->pysentimiento) (0.13.2)\n",
      "Requirement already satisfied: frozenlist>=1.1.1 in /home/targa/miniconda3/lib/python3.9/site-packages (from aiohttp->datasets>=1.13.3->pysentimiento) (1.3.3)\n",
      "Requirement already satisfied: charset-normalizer<4.0,>=2.0 in /home/targa/miniconda3/lib/python3.9/site-packages (from aiohttp->datasets>=1.13.3->pysentimiento) (2.0.12)\n",
      "Requirement already satisfied: multidict<7.0,>=4.5 in /home/targa/miniconda3/lib/python3.9/site-packages (from aiohttp->datasets>=1.13.3->pysentimiento) (6.0.4)\n",
      "Requirement already satisfied: aiosignal>=1.1.2 in /home/targa/miniconda3/lib/python3.9/site-packages (from aiohttp->datasets>=1.13.3->pysentimiento) (1.3.1)\n",
      "Requirement already satisfied: async-timeout<5.0,>=4.0.0a3 in /home/targa/miniconda3/lib/python3.9/site-packages (from aiohttp->datasets>=1.13.3->pysentimiento) (4.0.2)\n",
      "Requirement already satisfied: attrs>=17.3.0 in /home/targa/miniconda3/lib/python3.9/site-packages (from aiohttp->datasets>=1.13.3->pysentimiento) (22.1.0)\n",
      "Requirement already satisfied: yarl<2.0,>=1.0 in /home/targa/miniconda3/lib/python3.9/site-packages (from aiohttp->datasets>=1.13.3->pysentimiento) (1.8.2)\n",
      "Requirement already satisfied: urllib3<1.27,>=1.21.1 in /home/targa/miniconda3/lib/python3.9/site-packages (from requests>=2.19.0->datasets>=1.13.3->pysentimiento) (1.26.14)\n",
      "Requirement already satisfied: certifi>=2017.4.17 in /home/targa/miniconda3/lib/python3.9/site-packages (from requests>=2.19.0->datasets>=1.13.3->pysentimiento) (2022.12.7)\n",
      "Requirement already satisfied: idna<4,>=2.5 in /home/targa/miniconda3/lib/python3.9/site-packages (from requests>=2.19.0->datasets>=1.13.3->pysentimiento) (3.4)\n"
     ]
    },
    {
     "name": "stdout",
     "output_type": "stream",
     "text": [
      "Requirement already satisfied: confection<1.0.0,>=0.0.1 in /home/targa/miniconda3/lib/python3.9/site-packages (from thinc<8.2.0,>=8.1.0->spacy<4.0.0,>=3.5.0->pysentimiento) (0.0.4)\n",
      "Requirement already satisfied: blis<0.8.0,>=0.7.8 in /home/targa/miniconda3/lib/python3.9/site-packages (from thinc<8.2.0,>=8.1.0->spacy<4.0.0,>=3.5.0->pysentimiento) (0.7.9)\n",
      "Requirement already satisfied: click<9.0.0,>=7.1.1 in /home/targa/miniconda3/lib/python3.9/site-packages (from typer<0.8.0,>=0.3.0->spacy<4.0.0,>=3.5.0->pysentimiento) (8.0.4)\n",
      "Requirement already satisfied: MarkupSafe>=2.0 in /home/targa/miniconda3/lib/python3.9/site-packages (from jinja2->spacy<4.0.0,>=3.5.0->pysentimiento) (2.1.1)\n",
      "Requirement already satisfied: pytz>=2020.1 in /home/targa/miniconda3/lib/python3.9/site-packages (from pandas->datasets>=1.13.3->pysentimiento) (2022.7)\n",
      "Requirement already satisfied: python-dateutil>=2.8.1 in /home/targa/miniconda3/lib/python3.9/site-packages (from pandas->datasets>=1.13.3->pysentimiento) (2.8.2)\n",
      "Requirement already satisfied: six>=1.5 in /home/targa/miniconda3/lib/python3.9/site-packages (from python-dateutil>=2.8.1->pandas->datasets>=1.13.3->pysentimiento) (1.16.0)\n",
      "\n",
      "\u001b[1m[\u001b[0m\u001b[34;49mnotice\u001b[0m\u001b[1;39;49m]\u001b[0m\u001b[39;49m A new release of pip is available: \u001b[0m\u001b[31;49m23.0\u001b[0m\u001b[39;49m -> \u001b[0m\u001b[32;49m23.0.1\u001b[0m\n",
      "\u001b[1m[\u001b[0m\u001b[34;49mnotice\u001b[0m\u001b[1;39;49m]\u001b[0m\u001b[39;49m To update, run: \u001b[0m\u001b[32;49mpip install --upgrade pip\u001b[0m\n"
     ]
    }
   ],
   "source": [
    "!pip install pysentimiento"
   ]
  },
  {
   "cell_type": "code",
   "execution_count": 2,
   "id": "d7af62d0",
   "metadata": {},
   "outputs": [
    {
     "name": "stderr",
     "output_type": "stream",
     "text": [
      "2023-03-03 20:38:20.885784: I tensorflow/core/platform/cpu_feature_guard.cc:193] This TensorFlow binary is optimized with oneAPI Deep Neural Network Library (oneDNN) to use the following CPU instructions in performance-critical operations:  FMA\n",
      "To enable them in other operations, rebuild TensorFlow with the appropriate compiler flags.\n",
      "2023-03-03 20:38:22.111372: W tensorflow/compiler/xla/stream_executor/platform/default/dso_loader.cc:64] Could not load dynamic library 'libnvinfer.so.7'; dlerror: libnvinfer.so.7: cannot open shared object file: No such file or directory\n",
      "2023-03-03 20:38:22.111480: W tensorflow/compiler/xla/stream_executor/platform/default/dso_loader.cc:64] Could not load dynamic library 'libnvinfer_plugin.so.7'; dlerror: libnvinfer_plugin.so.7: cannot open shared object file: No such file or directory\n",
      "2023-03-03 20:38:22.111492: W tensorflow/compiler/tf2tensorrt/utils/py_utils.cc:38] TF-TRT Warning: Cannot dlopen some TensorRT libraries. If you would like to use Nvidia GPU with TensorRT, please make sure the missing libraries mentioned above are installed properly.\n",
      "/home/targa/miniconda3/lib/python3.9/site-packages/torch/cuda/__init__.py:497: UserWarning: Can't initialize NVML\n",
      "  warnings.warn(\"Can't initialize NVML\")\n"
     ]
    }
   ],
   "source": [
    "from pysentimiento import create_analyzer\n",
    "\"\"\"\n",
    "pysentimiento is a sentiment Analysis available for es, en, (it, pt) languages \n",
    "is an open-source library for non-commercial use and scientific research purposes only.\n",
    "BETO, a BERT model trained in Spanish.  beto-sentiment-analysis\n",
    "Model trained with TASS 2020 Task 2 corpus for Emotion detection in Spanish. Base model is BETO, a BERT model trained in Spanish\n",
    "\"\"\"\n",
    "language=\"en\"\n",
    "# architectures: \"RobertaForSequenceClassification\"\n",
    "attitude_analyzer = create_analyzer(task=\"sentiment\", lang=language).predict"
   ]
  },
  {
   "cell_type": "code",
   "execution_count": 8,
   "id": "feda2a94",
   "metadata": {},
   "outputs": [],
   "source": [
    "import numpy as np"
   ]
  },
  {
   "cell_type": "code",
   "execution_count": 12,
   "id": "d87b1b41",
   "metadata": {},
   "outputs": [
    {
     "name": "stdout",
     "output_type": "stream",
     "text": [
      "NEG\n",
      "AnalyzerOutput(output=POS, probas={POS: 0.990, NEU: 0.009, NEG: 0.001}) This is the best version (so far) that you will see and the most true to the Bronte work...\n",
      "NEG\n",
      "AnalyzerOutput(output=POS, probas={POS: 0.986, NEU: 0.012, NEG: 0.002}) The story is very trustworthy and powerful. The technical side of the movie is quite fine...\n",
      "NEG\n",
      "AnalyzerOutput(output=NEG, probas={NEG: 0.972, NEU: 0.019, POS: 0.009}) It's terrific when a funny movie doesn't make smile you. What a pity!! This film is very boring...\n",
      "NEG\n",
      "AnalyzerOutput(output=POS, probas={POS: 0.795, NEU: 0.188, NEG: 0.017}) I liked Boyle's performance, but that's about the only positive thing I can say. Everything was over...\n"
     ]
    }
   ],
   "source": [
    "# excerpts from ImDb\n",
    "# http://ai.stanford.edu/~amaas/data/sentiment/\n",
    "data = {'en': [\n",
    "    \"This is the best version (so far) that you will see and the most true to the Bronte work...\",\n",
    "    \"The story is very trustworthy and powerful. The technical side of the movie is quite fine...\",\n",
    "    \"It's terrific when a funny movie doesn't make smile you. What a pity!! This film is very boring...\",\n",
    "    \"I liked Boyle's performance, but that's about the only positive thing I can say. Everything was over...\",\n",
    "]}\n",
    "import math\n",
    "for expression in data['en']:\n",
    "    analysis = attitude_analyzer(expression)\n",
    "    print(list(analysis.probas.items())[0][0])\n",
    "    print(attitude_analyzer(expression), expression)"
   ]
  },
  {
   "cell_type": "code",
   "execution_count": null,
   "id": "3cbc68aa",
   "metadata": {},
   "outputs": [],
   "source": []
  }
 ],
 "metadata": {
  "kernelspec": {
   "display_name": "Python 3 (ipykernel)",
   "language": "python",
   "name": "python3"
  },
  "language_info": {
   "codemirror_mode": {
    "name": "ipython",
    "version": 3
   },
   "file_extension": ".py",
   "mimetype": "text/x-python",
   "name": "python",
   "nbconvert_exporter": "python",
   "pygments_lexer": "ipython3",
   "version": "3.9.5"
  }
 },
 "nbformat": 4,
 "nbformat_minor": 5
}
