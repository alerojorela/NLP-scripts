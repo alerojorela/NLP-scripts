{
 "cells": [
  {
   "cell_type": "markdown",
   "id": "f890588f",
   "metadata": {},
   "source": [
    "# Graph visualization\n",
    "+ random adjacency matrix\n",
    "+ using [Pyvis](https://pyvis.readthedocs.io/en/latest/index.html) library (built around the VisJS library)"
   ]
  },
  {
   "cell_type": "code",
   "execution_count": 46,
   "id": "a0c17063",
   "metadata": {},
   "outputs": [
    {
     "name": "stdout",
     "output_type": "stream",
     "text": [
      "Requirement already satisfied: pyvis in /home/targa/anaconda3/lib/python3.9/site-packages (0.3.2)\n",
      "Requirement already satisfied: ipython>=5.3.0 in /home/targa/anaconda3/lib/python3.9/site-packages (from pyvis) (8.2.0)\n",
      "Requirement already satisfied: jsonpickle>=1.4.1 in /home/targa/anaconda3/lib/python3.9/site-packages (from pyvis) (3.0.1)\n",
      "Requirement already satisfied: networkx>=1.11 in /home/targa/anaconda3/lib/python3.9/site-packages (from pyvis) (2.7.1)\n",
      "Requirement already satisfied: jinja2>=2.9.6 in /home/targa/anaconda3/lib/python3.9/site-packages (from pyvis) (2.11.3)\n",
      "Requirement already satisfied: pygments>=2.4.0 in /home/targa/anaconda3/lib/python3.9/site-packages (from ipython>=5.3.0->pyvis) (2.11.2)\n",
      "Requirement already satisfied: traitlets>=5 in /home/targa/anaconda3/lib/python3.9/site-packages (from ipython>=5.3.0->pyvis) (5.1.1)\n",
      "Requirement already satisfied: prompt-toolkit!=3.0.0,!=3.0.1,<3.1.0,>=2.0.0 in /home/targa/anaconda3/lib/python3.9/site-packages (from ipython>=5.3.0->pyvis) (3.0.20)\n",
      "Requirement already satisfied: decorator in /home/targa/anaconda3/lib/python3.9/site-packages (from ipython>=5.3.0->pyvis) (5.1.1)\n",
      "Requirement already satisfied: backcall in /home/targa/anaconda3/lib/python3.9/site-packages (from ipython>=5.3.0->pyvis) (0.2.0)\n",
      "Requirement already satisfied: setuptools>=18.5 in /home/targa/anaconda3/lib/python3.9/site-packages (from ipython>=5.3.0->pyvis) (61.2.0)\n",
      "Requirement already satisfied: stack-data in /home/targa/anaconda3/lib/python3.9/site-packages (from ipython>=5.3.0->pyvis) (0.2.0)\n",
      "Requirement already satisfied: pexpect>4.3 in /home/targa/anaconda3/lib/python3.9/site-packages (from ipython>=5.3.0->pyvis) (4.8.0)\n",
      "Requirement already satisfied: pickleshare in /home/targa/anaconda3/lib/python3.9/site-packages (from ipython>=5.3.0->pyvis) (0.7.5)\n",
      "Requirement already satisfied: jedi>=0.16 in /home/targa/anaconda3/lib/python3.9/site-packages (from ipython>=5.3.0->pyvis) (0.18.1)\n",
      "Requirement already satisfied: matplotlib-inline in /home/targa/anaconda3/lib/python3.9/site-packages (from ipython>=5.3.0->pyvis) (0.1.2)\n",
      "Requirement already satisfied: parso<0.9.0,>=0.8.0 in /home/targa/anaconda3/lib/python3.9/site-packages (from jedi>=0.16->ipython>=5.3.0->pyvis) (0.8.3)\n",
      "Requirement already satisfied: MarkupSafe>=0.23 in /home/targa/anaconda3/lib/python3.9/site-packages (from jinja2>=2.9.6->pyvis) (2.0.1)\n",
      "Requirement already satisfied: ptyprocess>=0.5 in /home/targa/anaconda3/lib/python3.9/site-packages (from pexpect>4.3->ipython>=5.3.0->pyvis) (0.7.0)\n",
      "Requirement already satisfied: wcwidth in /home/targa/anaconda3/lib/python3.9/site-packages (from prompt-toolkit!=3.0.0,!=3.0.1,<3.1.0,>=2.0.0->ipython>=5.3.0->pyvis) (0.2.5)\n",
      "Requirement already satisfied: asttokens in /home/targa/anaconda3/lib/python3.9/site-packages (from stack-data->ipython>=5.3.0->pyvis) (2.0.5)\n",
      "Requirement already satisfied: pure-eval in /home/targa/anaconda3/lib/python3.9/site-packages (from stack-data->ipython>=5.3.0->pyvis) (0.2.2)\n",
      "Requirement already satisfied: executing in /home/targa/anaconda3/lib/python3.9/site-packages (from stack-data->ipython>=5.3.0->pyvis) (0.8.3)\n",
      "Requirement already satisfied: six in /home/targa/anaconda3/lib/python3.9/site-packages (from asttokens->stack-data->ipython>=5.3.0->pyvis) (1.16.0)\n"
     ]
    }
   ],
   "source": [
    "!pip install pyvis"
   ]
  },
  {
   "cell_type": "code",
   "execution_count": 47,
   "id": "8425a6ab",
   "metadata": {},
   "outputs": [],
   "source": [
    "import numpy as np\n",
    "import string\n",
    "\n",
    "from pyvis.network import Network\n",
    "import networkx as nx"
   ]
  },
  {
   "cell_type": "code",
   "execution_count": 54,
   "id": "18267282",
   "metadata": {},
   "outputs": [],
   "source": [
    "label_length = 20\n",
    "def adjacency_matrix(matrix, labels, threshold=0):\n",
    "    matrix = (matrix >= threshold).astype(int)\n",
    "    # In the special case of a finite simple graph, the adjacency matrix is a (0,1)-matrix with zeros on its diagonal\n",
    "    np.fill_diagonal(matrix, 0)\n",
    "        \n",
    "    nx_graph = nx.Graph()\n",
    "\n",
    "    # nodes\n",
    "    # adjacency matrix\n",
    "    for index in range(matrix.shape[0]):\n",
    "        text = labels[index]\n",
    "        nx_graph.add_node(index, size=20, \n",
    "                          label=text, title=text)\n",
    "                          # label=text[:label_length]+'...', title=text)\n",
    "\n",
    "    # edges\n",
    "    for i in range(matrix.shape[0]):\n",
    "        for j in range(matrix.shape[1]):\n",
    "            if matrix[i,j]:\n",
    "                global_j = j\n",
    "                nx_graph.add_edge(i, global_j, weight=int(3 * matrix[i,j]))\n",
    "    return nx_graph"
   ]
  },
  {
   "cell_type": "code",
   "execution_count": 55,
   "id": "313d314c",
   "metadata": {
    "scrolled": true
   },
   "outputs": [
    {
     "name": "stdout",
     "output_type": "stream",
     "text": [
      "(8, 8) abcdefgh\n",
      "[[0.69115957 0.70112084 0.1151874  0.70010891 0.79486401 0.15167592\n",
      "  0.37587242 0.65527471]\n",
      " [0.29669036 0.11528864 0.79939646 0.72671105 0.16429798 0.92405266\n",
      "  0.81163923 0.95739313]\n",
      " [0.71185479 0.90669542 0.69214969 0.25394102 0.43197191 0.35122243\n",
      "  0.95270078 0.12698184]\n",
      " [0.62961393 0.1345996  0.43154697 0.7157225  0.18994946 0.17601123\n",
      "  0.03999603 0.23573591]\n",
      " [0.81064142 0.45681969 0.17123968 0.68220239 0.3339302  0.90438318\n",
      "  0.31238866 0.41037438]\n",
      " [0.16657077 0.74641571 0.94558699 0.65077794 0.49471569 0.5525161\n",
      "  0.17849382 0.52198641]\n",
      " [0.00815334 0.86815839 0.74440408 0.75520455 0.03428344 0.58215723\n",
      "  0.59421031 0.3745139 ]\n",
      " [0.13443059 0.12249377 0.77190524 0.25318119 0.90307626 0.58968493\n",
      "  0.28547208 0.54763842]]\n"
     ]
    }
   ],
   "source": [
    "def random_adjacency_matrix(items_number):\n",
    "    # random matrix -> graph\n",
    "    items_number = 8\n",
    "    labels = string.ascii_lowercase[:items_number]\n",
    "    return np.random.rand(items_number,items_number), labels\n",
    "\n",
    "matrix, labels = random_adjacency_matrix(items_number=8)\n",
    "print(matrix.shape, labels)\n",
    "print(matrix)"
   ]
  },
  {
   "cell_type": "markdown",
   "id": "b7441211",
   "metadata": {},
   "source": [
    "## Creating random matrix->graph"
   ]
  },
  {
   "cell_type": "code",
   "execution_count": 56,
   "id": "11287240",
   "metadata": {},
   "outputs": [],
   "source": [
    "threshold = 0.7\n",
    "nx_graph = adjacency_matrix(matrix, labels, threshold=threshold)"
   ]
  },
  {
   "cell_type": "code",
   "execution_count": 57,
   "id": "53be5066",
   "metadata": {},
   "outputs": [
    {
     "name": "stdout",
     "output_type": "stream",
     "text": [
      "nx.html\n"
     ]
    },
    {
     "data": {
      "text/html": [
       "\n",
       "        <iframe\n",
       "            width=\"100%\"\n",
       "            height=\"750px\"\n",
       "            src=\"nx.html\"\n",
       "            frameborder=\"0\"\n",
       "            allowfullscreen\n",
       "            \n",
       "        ></iframe>\n",
       "        "
      ],
      "text/plain": [
       "<IPython.lib.display.IFrame at 0x7f1c8461a220>"
      ]
     },
     "execution_count": 57,
     "metadata": {},
     "output_type": "execute_result"
    }
   ],
   "source": [
    "net = Network(notebook=True, height=\"750px\", width=\"100%\", cdn_resources='remote', filter_menu =True)\n",
    "net.from_nx(nx_graph)\n",
    "net.show(\"nx.html\")"
   ]
  },
  {
   "cell_type": "code",
   "execution_count": 58,
   "id": "9cc4db2a",
   "metadata": {
    "scrolled": false
   },
   "outputs": [
    {
     "name": "stdout",
     "output_type": "stream",
     "text": [
      "nx.html\n"
     ]
    },
    {
     "data": {
      "text/html": [
       "\n",
       "        <iframe\n",
       "            width=\"100%\"\n",
       "            height=\"750px\"\n",
       "            src=\"nx.html\"\n",
       "            frameborder=\"0\"\n",
       "            allowfullscreen\n",
       "            \n",
       "        ></iframe>\n",
       "        "
      ],
      "text/plain": [
       "<IPython.lib.display.IFrame at 0x7f1c8484ad90>"
      ]
     },
     "execution_count": 58,
     "metadata": {},
     "output_type": "execute_result"
    }
   ],
   "source": [
    "net = Network(notebook=True, height=\"750px\", width=\"100%\", cdn_resources='remote', filter_menu =True)\n",
    "net.from_nx(nx_graph)\n",
    "net.show_buttons(filter_=['physics'])\n",
    "net.show(\"nx.html\")\n"
   ]
  },
  {
   "cell_type": "code",
   "execution_count": 53,
   "id": "23ccee79",
   "metadata": {},
   "outputs": [],
   "source": [
    "# nx_graph = nx.cycle_graph(10)\n",
    "# net.repulsion(node_distance=500, spring_length=200)"
   ]
  },
  {
   "cell_type": "code",
   "execution_count": null,
   "id": "419ccf6f",
   "metadata": {},
   "outputs": [],
   "source": []
  }
 ],
 "metadata": {
  "kernelspec": {
   "display_name": "Python 3 (ipykernel)",
   "language": "python",
   "name": "python3"
  },
  "language_info": {
   "codemirror_mode": {
    "name": "ipython",
    "version": 3
   },
   "file_extension": ".py",
   "mimetype": "text/x-python",
   "name": "python",
   "nbconvert_exporter": "python",
   "pygments_lexer": "ipython3",
   "version": "3.9.12"
  }
 },
 "nbformat": 4,
 "nbformat_minor": 5
}
